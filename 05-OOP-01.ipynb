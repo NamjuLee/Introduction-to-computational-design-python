{
 "cells": [
  {
   "cell_type": "code",
   "execution_count": 73,
   "metadata": {},
   "outputs": [],
   "source": [
    "import math\n",
    "import random"
   ]
  },
  {
   "cell_type": "code",
   "execution_count": 214,
   "metadata": {},
   "outputs": [],
   "source": [
    "class Round:\n",
    "  def __init__(self, history, index):\n",
    "    self.index = index;\n",
    "    self.history = history\n",
    "    self.dataFight = []\n",
    "  def Update(self, log ):\n",
    "    self.dataFight.append(log)\n",
    "  def PrintHistory(self):\n",
    "    for i in self.dataFight:\n",
    "        print(i)\n",
    "class History:\n",
    "  def __init__(self, person):\n",
    "    self.person = person\n",
    "    self.rounds = [Round(self, 0)]\n",
    "  def NewRound(self):\n",
    "    self.rounds.append(Round(self, len(self.rounds)))\n",
    "  def Update(self, log ):\n",
    "    self.rounds[-1].Update(log)\n",
    "  def PrintHistory(self):\n",
    "    for i in self.rounds:\n",
    "        print('---------------------')\n",
    "        i.PrintHistory();\n",
    "class Person:\n",
    "  def __init__(self, name, age = 20):\n",
    "    self.name = name\n",
    "    self.age = age\n",
    "    self.energy = 100;\n",
    "    self.numOfKill = 0;\n",
    "    self.isAlive = True;\n",
    "    self.other = None;\n",
    "    self.power = math.floor(random.random() * 10)\n",
    "    self.history = History(self)\n",
    "  def Rest(self):\n",
    "    self.energy += 10;\n",
    "  def HitByNum(self, other, num):\n",
    "    for i in range(num):\n",
    "        self.Hit(other)\n",
    "  def Hit(self, other):\n",
    "#     self.energy += math.floor(random.random() * 0.9)   \n",
    "    other.energy -= self.power\n",
    "    self.ReportFight(other); # for report\n",
    "    if(other.energy < 0):\n",
    "        self.Kill(other)\n",
    "  def ReportFight(self, other):\n",
    "    log = self.name,'(', self.energy ,')', ' is fighting with ', other.name,'(', other.energy ,')'\n",
    "    print(log);\n",
    "    self.history.Update(log);\n",
    "  def Print(self):\n",
    "    if(self.isAlive):\n",
    "        print('name:', self.name, ', age:', self.age, ', power:', self.power, ', energy:', self.energy  )\n",
    "    else:\n",
    "        print(self.name, 'is gone...by', self.other.name ) \n",
    "  def Kill(self, person):\n",
    "    self.numOfKill += 1\n",
    "    person.isAlive = False\n",
    "    person.other = self\n",
    "    self.history.NewRound()\n",
    "  def PrintHistory(self):\n",
    "    self.history.PrintHistory();\n",
    "    \n",
    "nj = Person('nj', 30)\n",
    "hj = Person('hj', 18)"
   ]
  },
  {
   "cell_type": "code",
   "execution_count": 215,
   "metadata": {},
   "outputs": [
    {
     "name": "stdout",
     "output_type": "stream",
     "text": [
      "name: nj , age: 30 , power: 3 , energy: 100\n",
      "name: hj , age: 18 , power: 2 , energy: 100\n",
      "('hj', '(', 100, ')', ' is fighting with ', 'nj', '(', 98, ')')\n",
      "name: nj , age: 30 , power: 3 , energy: 98\n",
      "name: hj , age: 18 , power: 2 , energy: 100\n"
     ]
    }
   ],
   "source": [
    "nj.Print()\n",
    "hj.Print()\n",
    "\n",
    "hj.Hit(nj)\n",
    "\n",
    "nj.Print()\n",
    "hj.Print()"
   ]
  },
  {
   "cell_type": "code",
   "execution_count": 216,
   "metadata": {},
   "outputs": [
    {
     "name": "stdout",
     "output_type": "stream",
     "text": [
      "nj is gone...by hj\n",
      "name: hj , age: 18 , power: 2 , energy: 100\n"
     ]
    }
   ],
   "source": [
    "hj.Kill(nj)\n",
    "nj.Print()\n",
    "hj.Print()"
   ]
  },
  {
   "cell_type": "code",
   "execution_count": 217,
   "metadata": {},
   "outputs": [
    {
     "name": "stdout",
     "output_type": "stream",
     "text": [
      "('hj', '(', 100, ')', ' is fighting with ', 'ww', '(', 98, ')')\n",
      "('hj', '(', 100, ')', ' is fighting with ', 'ww', '(', 96, ')')\n",
      "('hj', '(', 100, ')', ' is fighting with ', 'ww', '(', 94, ')')\n",
      "('hj', '(', 100, ')', ' is fighting with ', 'ww', '(', 92, ')')\n",
      "('hj', '(', 100, ')', ' is fighting with ', 'ww', '(', 90, ')')\n",
      "('hj', '(', 100, ')', ' is fighting with ', 'ww', '(', 88, ')')\n",
      "('hj', '(', 100, ')', ' is fighting with ', 'ww', '(', 86, ')')\n",
      "('hj', '(', 100, ')', ' is fighting with ', 'ww', '(', 84, ')')\n",
      "('hj', '(', 100, ')', ' is fighting with ', 'ww', '(', 82, ')')\n",
      "('hj', '(', 100, ')', ' is fighting with ', 'ww', '(', 80, ')')\n",
      "('hj', '(', 100, ')', ' is fighting with ', 'ww', '(', 78, ')')\n",
      "('hj', '(', 100, ')', ' is fighting with ', 'ww', '(', 76, ')')\n",
      "name: ww , age: 50 , power: 8 , energy: 76\n",
      "name: hj , age: 18 , power: 2 , energy: 100\n"
     ]
    }
   ],
   "source": [
    "ww = Person('ww', 50)\n",
    "\n",
    "\n",
    "hj.HitByNum(ww, 12)\n",
    "# for i in range(12):\n",
    "#     hj.Hit(ww)\n",
    "\n",
    "ww.Print()\n",
    "hj.Print()"
   ]
  },
  {
   "cell_type": "code",
   "execution_count": null,
   "metadata": {},
   "outputs": [],
   "source": []
  },
  {
   "cell_type": "code",
   "execution_count": 229,
   "metadata": {},
   "outputs": [],
   "source": [
    "class Game:\n",
    "  def __init__(self, names):\n",
    "    self.people = [ Person(i) for i in names ]\n",
    "  def Log(self):\n",
    "    for i in self.people:\n",
    "        i.Print()\n",
    "  def PlanGame(self):\n",
    "    match = self.GetRandomIndex(len(self.people))\n",
    "    \n",
    "    remain = []\n",
    "    \n",
    "    for i in match:\n",
    "        print('------------------')\n",
    "        print(i[0],':', self.people[i[0]].name ,i[1],':', self.people[i[1]].name  )\n",
    "        self.Fight(self.people[i[0]], self.people[i[1]])\n",
    "        if(self.people[i[0]].isAlive):\n",
    "            print('------------------')\n",
    "            print(i[0],':', self.people[i[0]].name, 'winner')\n",
    "        else :\n",
    "            print('------------------')\n",
    "            print(i[1],':', self.people[i[1]].name, 'winner')\n",
    "\n",
    "  def Fight(self, otherA , otherB ):\n",
    "      while(otherA.isAlive and otherB.isAlive):\n",
    "          self.Hit(otherA, otherB)\n",
    "        \n",
    "  def Hit(self, otherA , otherB ):\n",
    "        time = random.random()\n",
    "        if(time < 0.5):\n",
    "            otherA.Hit(otherB)\n",
    "        else:\n",
    "            otherB.Hit(otherA)\n",
    "  def GetRandomIndex(self, theLength):\n",
    "    d = [i for i in range(theLength)]\n",
    "    temp = []\n",
    "    while(len(d)):\n",
    "        out = d.pop( math.floor(random.random() * len(d)))\n",
    "        temp.append(out);\n",
    "    myReturn = [];\n",
    "    for i in range(0, len(temp), 2):\n",
    "        myReturn.append([temp[i], temp[i+1]])\n",
    "    return myReturn"
   ]
  },
  {
   "cell_type": "code",
   "execution_count": null,
   "metadata": {},
   "outputs": [],
   "source": []
  },
  {
   "cell_type": "code",
   "execution_count": 230,
   "metadata": {},
   "outputs": [
    {
     "name": "stdout",
     "output_type": "stream",
     "text": [
      "------------------\n",
      "2 : dj 6 : hj\n",
      "('hj', '(', 100, ')', ' is fighting with ', 'dj', '(', 94, ')')\n",
      "('dj', '(', 94, ')', ' is fighting with ', 'hj', '(', 93, ')')\n",
      "('hj', '(', 93, ')', ' is fighting with ', 'dj', '(', 88, ')')\n",
      "('dj', '(', 88, ')', ' is fighting with ', 'hj', '(', 86, ')')\n",
      "('hj', '(', 86, ')', ' is fighting with ', 'dj', '(', 82, ')')\n",
      "('hj', '(', 86, ')', ' is fighting with ', 'dj', '(', 76, ')')\n",
      "('hj', '(', 86, ')', ' is fighting with ', 'dj', '(', 70, ')')\n",
      "('hj', '(', 86, ')', ' is fighting with ', 'dj', '(', 64, ')')\n",
      "('dj', '(', 64, ')', ' is fighting with ', 'hj', '(', 79, ')')\n",
      "('hj', '(', 79, ')', ' is fighting with ', 'dj', '(', 58, ')')\n",
      "('hj', '(', 79, ')', ' is fighting with ', 'dj', '(', 52, ')')\n",
      "('dj', '(', 52, ')', ' is fighting with ', 'hj', '(', 72, ')')\n",
      "('hj', '(', 72, ')', ' is fighting with ', 'dj', '(', 46, ')')\n",
      "('hj', '(', 72, ')', ' is fighting with ', 'dj', '(', 40, ')')\n",
      "('dj', '(', 40, ')', ' is fighting with ', 'hj', '(', 65, ')')\n",
      "('hj', '(', 65, ')', ' is fighting with ', 'dj', '(', 34, ')')\n",
      "('hj', '(', 65, ')', ' is fighting with ', 'dj', '(', 28, ')')\n",
      "('dj', '(', 28, ')', ' is fighting with ', 'hj', '(', 58, ')')\n",
      "('hj', '(', 58, ')', ' is fighting with ', 'dj', '(', 22, ')')\n",
      "('dj', '(', 22, ')', ' is fighting with ', 'hj', '(', 51, ')')\n",
      "('dj', '(', 22, ')', ' is fighting with ', 'hj', '(', 44, ')')\n",
      "('hj', '(', 44, ')', ' is fighting with ', 'dj', '(', 16, ')')\n",
      "('hj', '(', 44, ')', ' is fighting with ', 'dj', '(', 10, ')')\n",
      "('dj', '(', 10, ')', ' is fighting with ', 'hj', '(', 37, ')')\n",
      "('hj', '(', 37, ')', ' is fighting with ', 'dj', '(', 4, ')')\n",
      "('hj', '(', 37, ')', ' is fighting with ', 'dj', '(', -2, ')')\n",
      "------------------\n",
      "6 : hj winner\n",
      "------------------\n",
      "5 : wj 3 : aj\n",
      "('aj', '(', 100, ')', ' is fighting with ', 'wj', '(', 98, ')')\n",
      "('wj', '(', 98, ')', ' is fighting with ', 'aj', '(', 96, ')')\n",
      "('aj', '(', 96, ')', ' is fighting with ', 'wj', '(', 96, ')')\n",
      "('wj', '(', 96, ')', ' is fighting with ', 'aj', '(', 92, ')')\n",
      "('aj', '(', 92, ')', ' is fighting with ', 'wj', '(', 94, ')')\n",
      "('aj', '(', 92, ')', ' is fighting with ', 'wj', '(', 92, ')')\n",
      "('aj', '(', 92, ')', ' is fighting with ', 'wj', '(', 90, ')')\n",
      "('aj', '(', 92, ')', ' is fighting with ', 'wj', '(', 88, ')')\n",
      "('aj', '(', 92, ')', ' is fighting with ', 'wj', '(', 86, ')')\n",
      "('aj', '(', 92, ')', ' is fighting with ', 'wj', '(', 84, ')')\n",
      "('aj', '(', 92, ')', ' is fighting with ', 'wj', '(', 82, ')')\n",
      "('wj', '(', 82, ')', ' is fighting with ', 'aj', '(', 88, ')')\n",
      "('aj', '(', 88, ')', ' is fighting with ', 'wj', '(', 80, ')')\n",
      "('wj', '(', 80, ')', ' is fighting with ', 'aj', '(', 84, ')')\n",
      "('wj', '(', 80, ')', ' is fighting with ', 'aj', '(', 80, ')')\n",
      "('aj', '(', 80, ')', ' is fighting with ', 'wj', '(', 78, ')')\n",
      "('aj', '(', 80, ')', ' is fighting with ', 'wj', '(', 76, ')')\n",
      "('wj', '(', 76, ')', ' is fighting with ', 'aj', '(', 76, ')')\n",
      "('aj', '(', 76, ')', ' is fighting with ', 'wj', '(', 74, ')')\n",
      "('aj', '(', 76, ')', ' is fighting with ', 'wj', '(', 72, ')')\n",
      "('wj', '(', 72, ')', ' is fighting with ', 'aj', '(', 72, ')')\n",
      "('aj', '(', 72, ')', ' is fighting with ', 'wj', '(', 70, ')')\n",
      "('wj', '(', 70, ')', ' is fighting with ', 'aj', '(', 68, ')')\n",
      "('wj', '(', 70, ')', ' is fighting with ', 'aj', '(', 64, ')')\n",
      "('aj', '(', 64, ')', ' is fighting with ', 'wj', '(', 68, ')')\n",
      "('wj', '(', 68, ')', ' is fighting with ', 'aj', '(', 60, ')')\n",
      "('aj', '(', 60, ')', ' is fighting with ', 'wj', '(', 66, ')')\n",
      "('wj', '(', 66, ')', ' is fighting with ', 'aj', '(', 56, ')')\n",
      "('aj', '(', 56, ')', ' is fighting with ', 'wj', '(', 64, ')')\n",
      "('wj', '(', 64, ')', ' is fighting with ', 'aj', '(', 52, ')')\n",
      "('wj', '(', 64, ')', ' is fighting with ', 'aj', '(', 48, ')')\n",
      "('aj', '(', 48, ')', ' is fighting with ', 'wj', '(', 62, ')')\n",
      "('wj', '(', 62, ')', ' is fighting with ', 'aj', '(', 44, ')')\n",
      "('aj', '(', 44, ')', ' is fighting with ', 'wj', '(', 60, ')')\n",
      "('aj', '(', 44, ')', ' is fighting with ', 'wj', '(', 58, ')')\n",
      "('aj', '(', 44, ')', ' is fighting with ', 'wj', '(', 56, ')')\n",
      "('aj', '(', 44, ')', ' is fighting with ', 'wj', '(', 54, ')')\n",
      "('aj', '(', 44, ')', ' is fighting with ', 'wj', '(', 52, ')')\n",
      "('aj', '(', 44, ')', ' is fighting with ', 'wj', '(', 50, ')')\n",
      "('aj', '(', 44, ')', ' is fighting with ', 'wj', '(', 48, ')')\n",
      "('aj', '(', 44, ')', ' is fighting with ', 'wj', '(', 46, ')')\n",
      "('aj', '(', 44, ')', ' is fighting with ', 'wj', '(', 44, ')')\n",
      "('wj', '(', 44, ')', ' is fighting with ', 'aj', '(', 40, ')')\n",
      "('wj', '(', 44, ')', ' is fighting with ', 'aj', '(', 36, ')')\n",
      "('wj', '(', 44, ')', ' is fighting with ', 'aj', '(', 32, ')')\n",
      "('wj', '(', 44, ')', ' is fighting with ', 'aj', '(', 28, ')')\n",
      "('wj', '(', 44, ')', ' is fighting with ', 'aj', '(', 24, ')')\n",
      "('wj', '(', 44, ')', ' is fighting with ', 'aj', '(', 20, ')')\n",
      "('wj', '(', 44, ')', ' is fighting with ', 'aj', '(', 16, ')')\n",
      "('aj', '(', 16, ')', ' is fighting with ', 'wj', '(', 42, ')')\n",
      "('wj', '(', 42, ')', ' is fighting with ', 'aj', '(', 12, ')')\n",
      "('aj', '(', 12, ')', ' is fighting with ', 'wj', '(', 40, ')')\n",
      "('aj', '(', 12, ')', ' is fighting with ', 'wj', '(', 38, ')')\n",
      "('aj', '(', 12, ')', ' is fighting with ', 'wj', '(', 36, ')')\n",
      "('aj', '(', 12, ')', ' is fighting with ', 'wj', '(', 34, ')')\n",
      "('wj', '(', 34, ')', ' is fighting with ', 'aj', '(', 8, ')')\n",
      "('wj', '(', 34, ')', ' is fighting with ', 'aj', '(', 4, ')')\n",
      "('wj', '(', 34, ')', ' is fighting with ', 'aj', '(', 0, ')')\n",
      "('aj', '(', 0, ')', ' is fighting with ', 'wj', '(', 32, ')')\n",
      "('wj', '(', 32, ')', ' is fighting with ', 'aj', '(', -4, ')')\n",
      "------------------\n",
      "5 : wj winner\n",
      "------------------\n",
      "1 : mj 0 : nj\n",
      "('mj', '(', 100, ')', ' is fighting with ', 'nj', '(', 91, ')')\n",
      "('nj', '(', 91, ')', ' is fighting with ', 'mj', '(', 97, ')')\n",
      "('mj', '(', 97, ')', ' is fighting with ', 'nj', '(', 82, ')')\n",
      "('mj', '(', 97, ')', ' is fighting with ', 'nj', '(', 73, ')')\n",
      "('mj', '(', 97, ')', ' is fighting with ', 'nj', '(', 64, ')')\n",
      "('mj', '(', 97, ')', ' is fighting with ', 'nj', '(', 55, ')')\n",
      "('nj', '(', 55, ')', ' is fighting with ', 'mj', '(', 94, ')')\n",
      "('nj', '(', 55, ')', ' is fighting with ', 'mj', '(', 91, ')')\n",
      "('mj', '(', 91, ')', ' is fighting with ', 'nj', '(', 46, ')')\n",
      "('nj', '(', 46, ')', ' is fighting with ', 'mj', '(', 88, ')')\n",
      "('mj', '(', 88, ')', ' is fighting with ', 'nj', '(', 37, ')')\n",
      "('nj', '(', 37, ')', ' is fighting with ', 'mj', '(', 85, ')')\n",
      "('mj', '(', 85, ')', ' is fighting with ', 'nj', '(', 28, ')')\n",
      "('mj', '(', 85, ')', ' is fighting with ', 'nj', '(', 19, ')')\n",
      "('mj', '(', 85, ')', ' is fighting with ', 'nj', '(', 10, ')')\n",
      "('nj', '(', 10, ')', ' is fighting with ', 'mj', '(', 82, ')')\n",
      "('nj', '(', 10, ')', ' is fighting with ', 'mj', '(', 79, ')')\n",
      "('nj', '(', 10, ')', ' is fighting with ', 'mj', '(', 76, ')')\n",
      "('nj', '(', 10, ')', ' is fighting with ', 'mj', '(', 73, ')')\n",
      "('nj', '(', 10, ')', ' is fighting with ', 'mj', '(', 70, ')')\n",
      "('mj', '(', 70, ')', ' is fighting with ', 'nj', '(', 1, ')')\n",
      "('mj', '(', 70, ')', ' is fighting with ', 'nj', '(', -8, ')')\n",
      "------------------\n",
      "1 : mj winner\n",
      "------------------\n",
      "4 : kj 7 : oj\n",
      "('kj', '(', 100, ')', ' is fighting with ', 'oj', '(', 94, ')')\n",
      "('kj', '(', 100, ')', ' is fighting with ', 'oj', '(', 88, ')')\n",
      "('kj', '(', 100, ')', ' is fighting with ', 'oj', '(', 82, ')')\n",
      "('kj', '(', 100, ')', ' is fighting with ', 'oj', '(', 76, ')')\n",
      "('oj', '(', 76, ')', ' is fighting with ', 'kj', '(', 95, ')')\n",
      "('oj', '(', 76, ')', ' is fighting with ', 'kj', '(', 90, ')')\n",
      "('oj', '(', 76, ')', ' is fighting with ', 'kj', '(', 85, ')')\n",
      "('oj', '(', 76, ')', ' is fighting with ', 'kj', '(', 80, ')')\n",
      "('kj', '(', 80, ')', ' is fighting with ', 'oj', '(', 70, ')')\n",
      "('kj', '(', 80, ')', ' is fighting with ', 'oj', '(', 64, ')')\n",
      "('kj', '(', 80, ')', ' is fighting with ', 'oj', '(', 58, ')')\n",
      "('oj', '(', 58, ')', ' is fighting with ', 'kj', '(', 75, ')')\n",
      "('oj', '(', 58, ')', ' is fighting with ', 'kj', '(', 70, ')')\n",
      "('oj', '(', 58, ')', ' is fighting with ', 'kj', '(', 65, ')')\n",
      "('kj', '(', 65, ')', ' is fighting with ', 'oj', '(', 52, ')')\n",
      "('oj', '(', 52, ')', ' is fighting with ', 'kj', '(', 60, ')')\n",
      "('oj', '(', 52, ')', ' is fighting with ', 'kj', '(', 55, ')')\n",
      "('oj', '(', 52, ')', ' is fighting with ', 'kj', '(', 50, ')')\n",
      "('oj', '(', 52, ')', ' is fighting with ', 'kj', '(', 45, ')')\n",
      "('kj', '(', 45, ')', ' is fighting with ', 'oj', '(', 46, ')')\n",
      "('kj', '(', 45, ')', ' is fighting with ', 'oj', '(', 40, ')')\n",
      "('oj', '(', 40, ')', ' is fighting with ', 'kj', '(', 40, ')')\n",
      "('oj', '(', 40, ')', ' is fighting with ', 'kj', '(', 35, ')')\n",
      "('oj', '(', 40, ')', ' is fighting with ', 'kj', '(', 30, ')')\n",
      "('oj', '(', 40, ')', ' is fighting with ', 'kj', '(', 25, ')')\n",
      "('kj', '(', 25, ')', ' is fighting with ', 'oj', '(', 34, ')')\n",
      "('kj', '(', 25, ')', ' is fighting with ', 'oj', '(', 28, ')')\n",
      "('oj', '(', 28, ')', ' is fighting with ', 'kj', '(', 20, ')')\n",
      "('kj', '(', 20, ')', ' is fighting with ', 'oj', '(', 22, ')')\n",
      "('oj', '(', 22, ')', ' is fighting with ', 'kj', '(', 15, ')')\n",
      "('oj', '(', 22, ')', ' is fighting with ', 'kj', '(', 10, ')')\n",
      "('kj', '(', 10, ')', ' is fighting with ', 'oj', '(', 16, ')')\n",
      "('oj', '(', 16, ')', ' is fighting with ', 'kj', '(', 5, ')')\n",
      "('oj', '(', 16, ')', ' is fighting with ', 'kj', '(', 0, ')')\n",
      "('kj', '(', 0, ')', ' is fighting with ', 'oj', '(', 10, ')')\n",
      "('kj', '(', 0, ')', ' is fighting with ', 'oj', '(', 4, ')')\n",
      "('oj', '(', 4, ')', ' is fighting with ', 'kj', '(', -5, ')')\n",
      "------------------\n",
      "7 : oj winner\n"
     ]
    }
   ],
   "source": [
    "names = [ 'nj', 'mj' , 'dj' , 'aj', 'kj', 'wj', 'hj', 'oj']\n",
    "game = Game(names)\n",
    "# game.Log()\n",
    "game.PlanGame()\n"
   ]
  },
  {
   "cell_type": "code",
   "execution_count": null,
   "metadata": {},
   "outputs": [],
   "source": []
  },
  {
   "cell_type": "code",
   "execution_count": null,
   "metadata": {},
   "outputs": [],
   "source": [
    "game.Fight(game.people[0], game.people[1])\n",
    "game.Log()"
   ]
  },
  {
   "cell_type": "code",
   "execution_count": null,
   "metadata": {},
   "outputs": [],
   "source": [
    "game.people[1].Print()\n",
    "game.people[1].PrintHistory()"
   ]
  },
  {
   "cell_type": "code",
   "execution_count": null,
   "metadata": {},
   "outputs": [],
   "source": [
    "game.Fight(game.people[1], game.people[2])\n",
    "game.people[1].Print()\n",
    "game.people[1].PrintHistory()"
   ]
  },
  {
   "cell_type": "raw",
   "metadata": {},
   "source": []
  },
  {
   "cell_type": "code",
   "execution_count": 194,
   "metadata": {},
   "outputs": [
    {
     "data": {
      "text/plain": [
       "[[1, 7], [3, 4], [6, 5], [0, 2]]"
      ]
     },
     "execution_count": 194,
     "metadata": {},
     "output_type": "execute_result"
    }
   ],
   "source": [
    "\n",
    "GetRandomIndex(len(game.people))"
   ]
  },
  {
   "cell_type": "code",
   "execution_count": 171,
   "metadata": {},
   "outputs": [
    {
     "data": {
      "text/plain": [
       "[2, 4, 6, 4, 5, 7, 3, 5, 44]"
      ]
     },
     "execution_count": 171,
     "metadata": {},
     "output_type": "execute_result"
    }
   ],
   "source": [
    "d"
   ]
  },
  {
   "cell_type": "code",
   "execution_count": null,
   "metadata": {},
   "outputs": [],
   "source": []
  }
 ],
 "metadata": {
  "kernelspec": {
   "display_name": "Python 3",
   "language": "python",
   "name": "python3"
  },
  "language_info": {
   "codemirror_mode": {
    "name": "ipython",
    "version": 3
   },
   "file_extension": ".py",
   "mimetype": "text/x-python",
   "name": "python",
   "nbconvert_exporter": "python",
   "pygments_lexer": "ipython3",
   "version": "3.5.2"
  }
 },
 "nbformat": 4,
 "nbformat_minor": 2
}

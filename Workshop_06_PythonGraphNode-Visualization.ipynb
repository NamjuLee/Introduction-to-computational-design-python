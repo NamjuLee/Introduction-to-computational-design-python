{
 "cells": [
  {
   "cell_type": "markdown",
   "metadata": {},
   "source": [
    "### Node generator and visualization in GH 2\n",
    "----\n",
    "##### instructor: NJ Namju Lee \n",
    "##### nj.namju@gmail.com\n",
    "##### www.njstudio.co.kr"
   ]
  },
  {
   "cell_type": "code",
   "execution_count": 1,
   "metadata": {},
   "outputs": [],
   "source": [
    "import random\n",
    "import math"
   ]
  },
  {
   "cell_type": "code",
   "execution_count": 2,
   "metadata": {},
   "outputs": [],
   "source": [
    "class Node:\n",
    "    def __init__(self, id, width, height):\n",
    "#         print('node')\n",
    "        x = random.random() * width\n",
    "        y = random.random() * height;\n",
    "        self.pos = { 'x': x ,'y': y  }\n",
    "        self.id = id\n",
    "        self.connections = []\n",
    "    def addNode(self, other):\n",
    "        self.connections.append(other);\n",
    "    def print(self):\n",
    "        print('id:', self.id, ', x:', self.pos['x'] , ', Y:', self.pos['y'] , ', connection:', self.connections )"
   ]
  },
  {
   "cell_type": "code",
   "execution_count": 3,
   "metadata": {},
   "outputs": [
    {
     "name": "stdout",
     "output_type": "stream",
     "text": [
      "id: 10 , x: 228.08081775576406 , Y: 49.925731220378466 , connection: []\n"
     ]
    }
   ],
   "source": [
    "numOfNodes = 200\n",
    "nodes = []\n",
    "for i in range(numOfNodes):\n",
    "    n = Node(i, 500, 500)\n",
    "    nodes.append(n);\n",
    "\n",
    "nodes[10].print()"
   ]
  },
  {
   "cell_type": "code",
   "execution_count": 4,
   "metadata": {},
   "outputs": [],
   "source": [
    "for i in range(300):\n",
    "    index0 = math.floor( random.random() * numOfNodes )\n",
    "    index1 = math.floor( random.random() * numOfNodes )\n",
    "    if (index0 != index1):\n",
    "        nodes[index0].addNode(nodes[index1])\n",
    "    "
   ]
  },
  {
   "cell_type": "code",
   "execution_count": 5,
   "metadata": {},
   "outputs": [
    {
     "name": "stdout",
     "output_type": "stream",
     "text": [
      "id: 107 , x: 43.3068876854521 , Y: 229.514685346695 , connection: []\n"
     ]
    }
   ],
   "source": [
    "nodes[2].connections[0].print()"
   ]
  },
  {
   "cell_type": "code",
   "execution_count": 6,
   "metadata": {},
   "outputs": [
    {
     "name": "stdout",
     "output_type": "stream",
     "text": [
      "id: 0 , x: 114.13608910957224 , Y: 112.63605930689663 , connection: [<__main__.Node object at 0x000002A0B8B6DF98>]\n",
      "id: 1 , x: 226.12705585994075 , Y: 274.9271302471137 , connection: [<__main__.Node object at 0x000002A0B8B61DD8>, <__main__.Node object at 0x000002A0B8B72198>]\n",
      "id: 2 , x: 40.55431329542647 , Y: 132.04299605919584 , connection: [<__main__.Node object at 0x000002A0B8B6D198>]\n",
      "id: 3 , x: 169.20942487681128 , Y: 361.5408540557226 , connection: [<__main__.Node object at 0x000002A0B8B6DBE0>, <__main__.Node object at 0x000002A0B8B61F60>]\n",
      "id: 4 , x: 195.83748350017473 , Y: 83.58305451663367 , connection: []\n",
      "id: 5 , x: 213.39066995095047 , Y: 232.51060724516532 , connection: []\n",
      "id: 6 , x: 129.73951888261354 , Y: 232.81949472519543 , connection: []\n",
      "id: 7 , x: 317.8511226419068 , Y: 160.77642262688514 , connection: [<__main__.Node object at 0x000002A0B8B6A3C8>, <__main__.Node object at 0x000002A0B8B6A4E0>]\n",
      "id: 8 , x: 470.1374327299515 , Y: 79.39783057365335 , connection: [<__main__.Node object at 0x000002A0B8B6D748>, <__main__.Node object at 0x000002A0B8B6D0B8>, <__main__.Node object at 0x000002A0B8B6A128>, <__main__.Node object at 0x000002A0B8B43B00>]\n",
      "id: 9 , x: 22.728500194623525 , Y: 11.897359703021305 , connection: [<__main__.Node object at 0x000002A0B8B6A4A8>]\n",
      "id: 10 , x: 228.08081775576406 , Y: 49.925731220378466 , connection: [<__main__.Node object at 0x000002A0B8B6DC88>, <__main__.Node object at 0x000002A0B8B433C8>]\n",
      "id: 11 , x: 79.55628452092839 , Y: 461.9087870534201 , connection: [<__main__.Node object at 0x000002A0B8B6A198>, <__main__.Node object at 0x000002A0B8B6A9B0>]\n",
      "id: 12 , x: 86.5537539068677 , Y: 69.76028048737165 , connection: [<__main__.Node object at 0x000002A0B8B61CC0>]\n",
      "id: 13 , x: 357.7763549586218 , Y: 387.23267705327675 , connection: [<__main__.Node object at 0x000002A0B8B6DCF8>]\n",
      "id: 14 , x: 156.91906939874954 , Y: 287.0393811144257 , connection: []\n",
      "id: 15 , x: 404.27512033406936 , Y: 450.568830593785 , connection: []\n",
      "id: 16 , x: 337.3981814615924 , Y: 317.8419434291625 , connection: []\n",
      "id: 17 , x: 37.428862129312954 , Y: 8.481975846095114 , connection: []\n",
      "id: 18 , x: 368.7766184397403 , Y: 455.85753243157757 , connection: []\n",
      "id: 19 , x: 477.2710303748499 , Y: 254.57760408581632 , connection: [<__main__.Node object at 0x000002A0B8B6D7F0>]\n",
      "id: 20 , x: 100.95507545895337 , Y: 330.3737871428001 , connection: [<__main__.Node object at 0x000002A0B8B6A9E8>, <__main__.Node object at 0x000002A0B8B61EF0>, <__main__.Node object at 0x000002A0B8B61CF8>, <__main__.Node object at 0x000002A0B8B6DBA8>]\n",
      "id: 21 , x: 493.02997520562377 , Y: 179.93417782317243 , connection: [<__main__.Node object at 0x000002A0B8B721D0>]\n",
      "id: 22 , x: 146.74316626095373 , Y: 354.124802020344 , connection: [<__main__.Node object at 0x000002A0B8B6AA58>]\n",
      "id: 23 , x: 425.52561165644306 , Y: 223.77996439968246 , connection: [<__main__.Node object at 0x000002A0B8B43B00>, <__main__.Node object at 0x000002A0B8B72438>]\n",
      "id: 24 , x: 151.48785523653464 , Y: 428.5422300762144 , connection: [<__main__.Node object at 0x000002A0B8B6A5F8>, <__main__.Node object at 0x000002A0B8B6D780>]\n",
      "id: 25 , x: 126.05768136478157 , Y: 75.71426840926016 , connection: []\n",
      "id: 26 , x: 250.42935777684494 , Y: 427.62133787466183 , connection: [<__main__.Node object at 0x000002A0B8B72048>]\n",
      "id: 27 , x: 432.93112800785326 , Y: 24.799608692280593 , connection: [<__main__.Node object at 0x000002A0B8B6D828>]\n",
      "id: 28 , x: 477.95207220997054 , Y: 239.16322664710682 , connection: [<__main__.Node object at 0x000002A0B8B6A7F0>, <__main__.Node object at 0x000002A0B8B6ACC0>]\n",
      "id: 29 , x: 190.7055273253405 , Y: 286.5761967525551 , connection: [<__main__.Node object at 0x000002A0B8B61F60>]\n",
      "id: 30 , x: 415.5396339025895 , Y: 137.1587444162673 , connection: [<__main__.Node object at 0x000002A0B8B6D1D0>]\n",
      "id: 31 , x: 227.04229524923664 , Y: 157.53669618138943 , connection: [<__main__.Node object at 0x000002A0B8B6D7B8>, <__main__.Node object at 0x000002A0B8B6AB00>]\n",
      "id: 32 , x: 34.87074503719256 , Y: 256.1019476564003 , connection: [<__main__.Node object at 0x000002A0B8B6A860>]\n",
      "id: 33 , x: 129.98002617804738 , Y: 393.51498906510466 , connection: [<__main__.Node object at 0x000002A0B8B6D198>, <__main__.Node object at 0x000002A0B8B723C8>, <__main__.Node object at 0x000002A0B8B6A668>]\n",
      "id: 34 , x: 324.5016664426211 , Y: 293.4430240372959 , connection: [<__main__.Node object at 0x000002A0B8B72400>]\n",
      "id: 35 , x: 281.1653088358451 , Y: 248.6587956762385 , connection: [<__main__.Node object at 0x000002A0B8B72080>]\n",
      "id: 36 , x: 46.79072085469244 , Y: 5.411375133792862 , connection: []\n",
      "id: 37 , x: 451.27293749558856 , Y: 97.38716580612045 , connection: [<__main__.Node object at 0x000002A0B8B6D668>]\n",
      "id: 38 , x: 318.2367645406146 , Y: 381.65819961235314 , connection: [<__main__.Node object at 0x000002A0B8B6ADA0>]\n",
      "id: 39 , x: 48.73551107276985 , Y: 50.88920844060868 , connection: []\n",
      "id: 40 , x: 278.8895060572892 , Y: 114.40180327933547 , connection: [<__main__.Node object at 0x000002A0B8B6AEB8>, <__main__.Node object at 0x000002A0B8B6AAC8>]\n",
      "id: 41 , x: 479.4117958511576 , Y: 383.77894199327346 , connection: []\n",
      "id: 42 , x: 479.5030079807872 , Y: 407.94806028449034 , connection: [<__main__.Node object at 0x000002A0B8B6AC50>]\n",
      "id: 43 , x: 442.5329966759937 , Y: 106.01918615982609 , connection: [<__main__.Node object at 0x000002A0B8B6A0F0>, <__main__.Node object at 0x000002A0B8B43B00>]\n",
      "id: 44 , x: 253.85840260607685 , Y: 315.235907475169 , connection: [<__main__.Node object at 0x000002A0B8B6ACF8>, <__main__.Node object at 0x000002A0B8B6D630>]\n",
      "id: 45 , x: 38.98134643644846 , Y: 231.40746305789085 , connection: [<__main__.Node object at 0x000002A0B8B6ADA0>]\n",
      "id: 46 , x: 163.31499452156677 , Y: 121.77088801534642 , connection: []\n",
      "id: 47 , x: 153.61573441727805 , Y: 155.9330777974917 , connection: []\n",
      "id: 48 , x: 354.0990938609524 , Y: 269.80184035169725 , connection: [<__main__.Node object at 0x000002A0B8B61DA0>, <__main__.Node object at 0x000002A0B8B61CF8>]\n",
      "id: 49 , x: 448.368665968639 , Y: 262.6773193948287 , connection: [<__main__.Node object at 0x000002A0B8B6AC50>, <__main__.Node object at 0x000002A0B8B6D320>]\n",
      "id: 50 , x: 2.903781189344201 , Y: 297.1530624532297 , connection: [<__main__.Node object at 0x000002A0B8B6A6D8>]\n",
      "id: 51 , x: 190.76977900155205 , Y: 17.097879061941658 , connection: [<__main__.Node object at 0x000002A0B8B6AD68>, <__main__.Node object at 0x000002A0B8B61C88>]\n",
      "id: 52 , x: 224.68804939577402 , Y: 273.84348749920485 , connection: [<__main__.Node object at 0x000002A0B8B6AF60>]\n",
      "id: 53 , x: 102.57202289135286 , Y: 81.458975138958 , connection: [<__main__.Node object at 0x000002A0B8B6AC18>, <__main__.Node object at 0x000002A0B8B6D400>, <__main__.Node object at 0x000002A0B8B72198>]\n",
      "id: 54 , x: 163.19036496443601 , Y: 422.6269971239055 , connection: [<__main__.Node object at 0x000002A0B8B6DA90>, <__main__.Node object at 0x000002A0B8B6D3C8>, <__main__.Node object at 0x000002A0B8B6D4A8>]\n",
      "id: 55 , x: 14.45812409236108 , Y: 313.41948316586263 , connection: [<__main__.Node object at 0x000002A0B8B6AB70>]\n",
      "id: 56 , x: 242.41826054230003 , Y: 335.50477347673956 , connection: []\n",
      "id: 57 , x: 359.6212346115323 , Y: 149.56001091987338 , connection: [<__main__.Node object at 0x000002A0B8B6D198>, <__main__.Node object at 0x000002A0B8B725F8>]\n",
      "id: 58 , x: 403.83044421870505 , Y: 384.37585846350413 , connection: [<__main__.Node object at 0x000002A0B8B43E10>, <__main__.Node object at 0x000002A0B8B6D1D0>, <__main__.Node object at 0x000002A0B8B6A4A8>]\n",
      "id: 59 , x: 9.466629974217488 , Y: 496.61770386550893 , connection: [<__main__.Node object at 0x000002A0B8B6D748>, <__main__.Node object at 0x000002A0B8B6A630>]\n",
      "id: 60 , x: 317.0677955452779 , Y: 292.3175502215614 , connection: []\n",
      "id: 61 , x: 425.41525902889504 , Y: 20.58851209059387 , connection: [<__main__.Node object at 0x000002A0B8B72400>]\n",
      "id: 62 , x: 474.20425842136666 , Y: 304.9055539846033 , connection: [<__main__.Node object at 0x000002A0B8B6D470>, <__main__.Node object at 0x000002A0B8B61E48>]\n",
      "id: 63 , x: 158.7864916932304 , Y: 300.68402258111837 , connection: [<__main__.Node object at 0x000002A0B8B6AA90>, <__main__.Node object at 0x000002A0B8B43FD0>]\n",
      "id: 64 , x: 28.231332443788283 , Y: 270.7964760790423 , connection: []\n",
      "id: 65 , x: 85.873894110998 , Y: 202.50345535119934 , connection: [<__main__.Node object at 0x000002A0B8B6A438>]\n",
      "id: 66 , x: 198.28013344113356 , Y: 101.68717365821261 , connection: []\n",
      "id: 67 , x: 14.989773440603592 , Y: 203.52662533587474 , connection: [<__main__.Node object at 0x000002A0B8B61BA8>, <__main__.Node object at 0x000002A0B8B6AF60>, <__main__.Node object at 0x000002A0B8B6DAC8>]\n",
      "id: 68 , x: 44.51133065502522 , Y: 263.5882491350113 , connection: [<__main__.Node object at 0x000002A0B8B6DB00>]\n",
      "id: 69 , x: 468.14421539141676 , Y: 203.92979969876362 , connection: [<__main__.Node object at 0x000002A0B8B61BE0>, <__main__.Node object at 0x000002A0B8B61EB8>, <__main__.Node object at 0x000002A0B8B6A1D0>, <__main__.Node object at 0x000002A0B8B72128>, <__main__.Node object at 0x000002A0B8B6DA20>]\n",
      "id: 70 , x: 333.31154303908204 , Y: 5.307507647716259 , connection: [<__main__.Node object at 0x000002A0B8B6AE80>, <__main__.Node object at 0x000002A0B8B61EB8>, <__main__.Node object at 0x000002A0B8B724E0>, <__main__.Node object at 0x000002A0B8B6A630>, <__main__.Node object at 0x000002A0B8B6D320>, <__main__.Node object at 0x000002A0B8B61E48>]\n",
      "id: 71 , x: 425.4910863233042 , Y: 108.38171606578906 , connection: [<__main__.Node object at 0x000002A0B8B6D668>, <__main__.Node object at 0x000002A0B8B6A080>, <__main__.Node object at 0x000002A0B8B6A0B8>, <__main__.Node object at 0x000002A0B8B72470>, <__main__.Node object at 0x000002A0B8B6AC18>]\n",
      "id: 72 , x: 221.82459641930723 , Y: 197.54816022230997 , connection: [<__main__.Node object at 0x000002A0B8B6D470>]\n",
      "id: 73 , x: 356.0834339710254 , Y: 275.2550896990395 , connection: [<__main__.Node object at 0x000002A0B8B6A940>, <__main__.Node object at 0x000002A0B8B6D358>]\n",
      "id: 74 , x: 264.17017979975 , Y: 304.78183687246735 , connection: [<__main__.Node object at 0x000002A0B8B6A400>]\n",
      "id: 75 , x: 166.71651084556038 , Y: 23.32656582648068 , connection: [<__main__.Node object at 0x000002A0B8B72240>]\n",
      "id: 76 , x: 345.4575024052682 , Y: 121.67046638376667 , connection: [<__main__.Node object at 0x000002A0B8B72048>]\n",
      "id: 77 , x: 303.4728312499463 , Y: 424.65671009012505 , connection: []\n",
      "id: 78 , x: 266.80625984934227 , Y: 443.90451792373614 , connection: []\n",
      "id: 79 , x: 120.31092326658211 , Y: 317.33257684000904 , connection: []\n",
      "id: 80 , x: 197.3956384899361 , Y: 73.59920011144999 , connection: [<__main__.Node object at 0x000002A0B8B6D518>, <__main__.Node object at 0x000002A0B8B6A080>, <__main__.Node object at 0x000002A0B8B61DD8>, <__main__.Node object at 0x000002A0B8B6D320>, <__main__.Node object at 0x000002A0B8B6AC88>]\n",
      "id: 81 , x: 468.0184664158765 , Y: 414.20065230398325 , connection: [<__main__.Node object at 0x000002A0B8B61DD8>, <__main__.Node object at 0x000002A0B8B6D048>]\n",
      "id: 82 , x: 46.38918473858467 , Y: 388.0483553810387 , connection: [<__main__.Node object at 0x000002A0B8B6AB38>]\n",
      "id: 83 , x: 58.6069301872143 , Y: 440.2691545794801 , connection: []\n",
      "id: 84 , x: 419.20065433511644 , Y: 469.08503046715884 , connection: [<__main__.Node object at 0x000002A0B8B6D160>, <__main__.Node object at 0x000002A0B8B6DEB8>]\n",
      "id: 85 , x: 52.64270090756612 , Y: 113.35388066033236 , connection: [<__main__.Node object at 0x000002A0B8B61C88>]\n",
      "id: 86 , x: 187.93166018742917 , Y: 213.80640831624703 , connection: [<__main__.Node object at 0x000002A0B8B6A9E8>]\n"
     ]
    },
    {
     "name": "stdout",
     "output_type": "stream",
     "text": [
      "id: 87 , x: 318.9646145689634 , Y: 448.76840047704866 , connection: [<__main__.Node object at 0x000002A0B8B6AA20>, <__main__.Node object at 0x000002A0B8B72320>, <__main__.Node object at 0x000002A0B8B61CF8>]\n",
      "id: 88 , x: 464.61807898553246 , Y: 419.5719380761794 , connection: [<__main__.Node object at 0x000002A0B8B43F60>, <__main__.Node object at 0x000002A0B8B6D048>]\n",
      "id: 89 , x: 496.8030306567349 , Y: 90.92562352459382 , connection: [<__main__.Node object at 0x000002A0B8B6D780>, <__main__.Node object at 0x000002A0B8B6D940>]\n",
      "id: 90 , x: 110.94480968798625 , Y: 38.93796294529406 , connection: [<__main__.Node object at 0x000002A0B8B6D550>, <__main__.Node object at 0x000002A0B8B6D320>, <__main__.Node object at 0x000002A0B8B6D1D0>]\n",
      "id: 91 , x: 37.44560493788168 , Y: 41.69284593260958 , connection: [<__main__.Node object at 0x000002A0B8B43E10>]\n",
      "id: 92 , x: 316.93812105252465 , Y: 24.857468233460523 , connection: [<__main__.Node object at 0x000002A0B8B6DA90>, <__main__.Node object at 0x000002A0B8B61D68>, <__main__.Node object at 0x000002A0B8B6A7F0>, <__main__.Node object at 0x000002A0B8B6D828>]\n",
      "id: 93 , x: 136.10778064834938 , Y: 483.66756213533665 , connection: [<__main__.Node object at 0x000002A0B8B6A7F0>]\n",
      "id: 94 , x: 445.03777218213537 , Y: 492.7220384438663 , connection: [<__main__.Node object at 0x000002A0B8B6D320>]\n",
      "id: 95 , x: 97.20648101780893 , Y: 327.9839400816632 , connection: [<__main__.Node object at 0x000002A0B8B61B70>, <__main__.Node object at 0x000002A0B8B6D940>, <__main__.Node object at 0x000002A0B8B6DB00>]\n",
      "id: 96 , x: 286.1068107209001 , Y: 427.26434751083474 , connection: [<__main__.Node object at 0x000002A0B8B6AA58>]\n",
      "id: 97 , x: 449.72531137194346 , Y: 293.8244648624675 , connection: []\n",
      "id: 98 , x: 329.3255353428615 , Y: 107.13142587406699 , connection: []\n",
      "id: 99 , x: 183.0965188270508 , Y: 365.82033644573875 , connection: [<__main__.Node object at 0x000002A0B8B6D978>]\n",
      "id: 100 , x: 475.2973286802799 , Y: 81.56770430751281 , connection: [<__main__.Node object at 0x000002A0B8B6DC88>, <__main__.Node object at 0x000002A0B8B723C8>]\n",
      "id: 101 , x: 17.398233940588536 , Y: 200.40137674932447 , connection: []\n",
      "id: 102 , x: 274.9356526243757 , Y: 135.138999385641 , connection: [<__main__.Node object at 0x000002A0B8B6D518>, <__main__.Node object at 0x000002A0B8B6A4E0>]\n",
      "id: 103 , x: 342.1250588976519 , Y: 61.00828865497543 , connection: [<__main__.Node object at 0x000002A0B8B6AEF0>, <__main__.Node object at 0x000002A0B8B6DF28>, <__main__.Node object at 0x000002A0B8B6D7B8>]\n",
      "id: 104 , x: 189.31631528825542 , Y: 247.28879256247805 , connection: []\n",
      "id: 105 , x: 370.18368276662693 , Y: 432.5225734470803 , connection: [<__main__.Node object at 0x000002A0B8B6D7B8>, <__main__.Node object at 0x000002A0B8B61DD8>, <__main__.Node object at 0x000002A0B8B6A550>]\n",
      "id: 106 , x: 90.24820755592683 , Y: 87.53577258276829 , connection: []\n",
      "id: 107 , x: 43.3068876854521 , Y: 229.514685346695 , connection: []\n",
      "id: 108 , x: 296.00375126306767 , Y: 70.1883078103801 , connection: [<__main__.Node object at 0x000002A0B8B6DF60>, <__main__.Node object at 0x000002A0B8B72320>]\n",
      "id: 109 , x: 296.01943508865077 , Y: 120.35687391711875 , connection: []\n",
      "id: 110 , x: 162.61405373737048 , Y: 299.5282969065275 , connection: [<__main__.Node object at 0x000002A0B8B6A518>, <__main__.Node object at 0x000002A0B8B61B70>, <__main__.Node object at 0x000002A0B8B6D1D0>, <__main__.Node object at 0x000002A0B8B61B38>]\n",
      "id: 111 , x: 244.6320589977969 , Y: 211.90957004679146 , connection: [<__main__.Node object at 0x000002A0B8B6AD30>, <__main__.Node object at 0x000002A0B8B61E80>]\n",
      "id: 112 , x: 203.48913301488508 , Y: 443.4867471631404 , connection: []\n",
      "id: 113 , x: 247.72176256284683 , Y: 492.0379118113904 , connection: [<__main__.Node object at 0x000002A0B8B6D128>, <__main__.Node object at 0x000002A0B8B6D710>]\n",
      "id: 114 , x: 331.50134448540484 , Y: 267.2908644910789 , connection: []\n",
      "id: 115 , x: 192.77165920056055 , Y: 373.6385445713119 , connection: []\n",
      "id: 116 , x: 444.3021005772434 , Y: 406.1241455570733 , connection: [<__main__.Node object at 0x000002A0B8B6A828>]\n",
      "id: 117 , x: 48.05904835816155 , Y: 44.21294486416294 , connection: [<__main__.Node object at 0x000002A0B8B6A390>]\n",
      "id: 118 , x: 428.4518477809199 , Y: 335.6148302409551 , connection: [<__main__.Node object at 0x000002A0B8B6ACC0>]\n",
      "id: 119 , x: 268.4454135199065 , Y: 136.2268097380156 , connection: [<__main__.Node object at 0x000002A0B8B6ABE0>]\n",
      "id: 120 , x: 135.05557870875728 , Y: 311.5636772327373 , connection: [<__main__.Node object at 0x000002A0B8B6DB70>, <__main__.Node object at 0x000002A0B8B6A1D0>]\n",
      "id: 121 , x: 120.30845447831922 , Y: 350.59055183449163 , connection: [<__main__.Node object at 0x000002A0B8B6AF28>, <__main__.Node object at 0x000002A0B8B6DB00>, <__main__.Node object at 0x000002A0B8B6A400>, <__main__.Node object at 0x000002A0B8B61F28>]\n",
      "id: 122 , x: 49.520637080449184 , Y: 421.6818688383828 , connection: [<__main__.Node object at 0x000002A0B8B6A828>, <__main__.Node object at 0x000002A0B8B6D048>]\n",
      "id: 123 , x: 59.70289988976552 , Y: 496.34559082114185 , connection: [<__main__.Node object at 0x000002A0B8B6D630>]\n",
      "id: 124 , x: 373.46888843273234 , Y: 415.9257986967373 , connection: [<__main__.Node object at 0x000002A0B8B6DFD0>, <__main__.Node object at 0x000002A0B8B72048>]\n",
      "id: 125 , x: 215.17800275747805 , Y: 153.53958913599496 , connection: [<__main__.Node object at 0x000002A0B8B6D240>]\n",
      "id: 126 , x: 24.49075279815638 , Y: 68.56832060622791 , connection: [<__main__.Node object at 0x000002A0B8B61B38>, <__main__.Node object at 0x000002A0B8B6A710>]\n",
      "id: 127 , x: 140.52974063525164 , Y: 452.4753643905447 , connection: [<__main__.Node object at 0x000002A0B8B6A358>, <__main__.Node object at 0x000002A0B8B6D278>]\n",
      "id: 128 , x: 184.8946151617674 , Y: 469.42730096209664 , connection: [<__main__.Node object at 0x000002A0B8B6A080>, <__main__.Node object at 0x000002A0B8B72128>, <__main__.Node object at 0x000002A0B8B61B70>, <__main__.Node object at 0x000002A0B8B6D470>]\n",
      "id: 129 , x: 185.74316348088476 , Y: 320.8192781107727 , connection: [<__main__.Node object at 0x000002A0B8B6AC18>]\n",
      "id: 130 , x: 112.77354754919084 , Y: 174.5825432847596 , connection: []\n",
      "id: 131 , x: 221.74293951603846 , Y: 44.35148177645226 , connection: [<__main__.Node object at 0x000002A0B8B6AC88>]\n",
      "id: 132 , x: 396.48629736192987 , Y: 150.9152065757992 , connection: [<__main__.Node object at 0x000002A0B8B6DD68>, <__main__.Node object at 0x000002A0B8B6D128>, <__main__.Node object at 0x000002A0B8B6ACF8>]\n",
      "id: 133 , x: 448.7358103769369 , Y: 444.90155187737287 , connection: [<__main__.Node object at 0x000002A0B8B43F60>]\n",
      "id: 134 , x: 332.0965490443961 , Y: 288.2431729026674 , connection: []\n",
      "id: 135 , x: 212.53294984190936 , Y: 236.38749455403607 , connection: [<__main__.Node object at 0x000002A0B8B6D7F0>, <__main__.Node object at 0x000002A0B8B6A588>]\n",
      "id: 136 , x: 446.61879299668175 , Y: 32.529024573476285 , connection: [<__main__.Node object at 0x000002A0B8B72128>]\n",
      "id: 137 , x: 368.5851852369854 , Y: 148.71853476533704 , connection: []\n",
      "id: 138 , x: 494.58161345068277 , Y: 351.829741264917 , connection: []\n",
      "id: 139 , x: 91.88410207513908 , Y: 383.57180062182766 , connection: []\n",
      "id: 140 , x: 199.36537748725246 , Y: 327.8129578535525 , connection: []\n",
      "id: 141 , x: 218.658530054619 , Y: 409.8852057835529 , connection: [<__main__.Node object at 0x000002A0B8B72358>, <__main__.Node object at 0x000002A0B8B6D1D0>, <__main__.Node object at 0x000002A0B8B6D4A8>]\n",
      "id: 142 , x: 282.84787453153484 , Y: 314.4984873357206 , connection: [<__main__.Node object at 0x000002A0B8B6D0B8>]\n",
      "id: 143 , x: 16.777806720871425 , Y: 478.253121611193 , connection: [<__main__.Node object at 0x000002A0B8B6D780>]\n",
      "id: 144 , x: 186.54420473356893 , Y: 372.5494183396249 , connection: [<__main__.Node object at 0x000002A0B8B6D6A0>]\n",
      "id: 145 , x: 423.7096299034955 , Y: 441.6128187937006 , connection: [<__main__.Node object at 0x000002A0B8B6A710>, <__main__.Node object at 0x000002A0B8B72588>]\n",
      "id: 146 , x: 179.00974362339534 , Y: 374.7714654059333 , connection: [<__main__.Node object at 0x000002A0B8B6A7F0>]\n",
      "id: 147 , x: 198.33489440154594 , Y: 157.87769268404273 , connection: [<__main__.Node object at 0x000002A0B8B61C18>, <__main__.Node object at 0x000002A0B8B6D320>]\n",
      "id: 148 , x: 482.85854777026645 , Y: 421.31224607847537 , connection: []\n",
      "id: 149 , x: 295.2536434514733 , Y: 211.18388824575263 , connection: []\n",
      "id: 150 , x: 448.08378358538795 , Y: 9.395594864536783 , connection: [<__main__.Node object at 0x000002A0B8B6DC50>, <__main__.Node object at 0x000002A0B8B6D0B8>]\n",
      "id: 151 , x: 180.42639924860433 , Y: 252.9216633263169 , connection: [<__main__.Node object at 0x000002A0B8B72160>, <__main__.Node object at 0x000002A0B8B6A128>, <__main__.Node object at 0x000002A0B8B61BE0>, <__main__.Node object at 0x000002A0B8B61D68>, <__main__.Node object at 0x000002A0B8B6A4E0>]\n",
      "id: 152 , x: 322.3668902268411 , Y: 139.99872559486647 , connection: [<__main__.Node object at 0x000002A0B8B6AA20>, <__main__.Node object at 0x000002A0B8B6D2B0>]\n"
     ]
    },
    {
     "name": "stdout",
     "output_type": "stream",
     "text": [
      "id: 153 , x: 210.44501005646887 , Y: 46.963542679485435 , connection: [<__main__.Node object at 0x000002A0B8B6DEF0>]\n",
      "id: 154 , x: 115.17259463733909 , Y: 469.0715500368793 , connection: [<__main__.Node object at 0x000002A0B8B6DD68>]\n",
      "id: 155 , x: 44.465509617880485 , Y: 272.9151330546898 , connection: [<__main__.Node object at 0x000002A0B8B72438>, <__main__.Node object at 0x000002A0B8B6A9B0>, <__main__.Node object at 0x000002A0B8B6D390>, <__main__.Node object at 0x000002A0B8B6DCC0>]\n",
      "id: 156 , x: 447.1663532079007 , Y: 444.3225479238595 , connection: []\n",
      "id: 157 , x: 222.94298779976378 , Y: 204.61483233886085 , connection: [<__main__.Node object at 0x000002A0B8B6D550>, <__main__.Node object at 0x000002A0B8B61B38>]\n",
      "id: 158 , x: 174.76128823683013 , Y: 391.39324956003566 , connection: [<__main__.Node object at 0x000002A0B8B6A7F0>, <__main__.Node object at 0x000002A0B8B6DC18>]\n",
      "id: 159 , x: 111.82535155386391 , Y: 456.29066858684484 , connection: [<__main__.Node object at 0x000002A0B8B72518>]\n",
      "id: 160 , x: 478.2596596056333 , Y: 244.55149016088583 , connection: [<__main__.Node object at 0x000002A0B8B6A828>]\n",
      "id: 161 , x: 435.0752322142349 , Y: 312.8326224492829 , connection: []\n",
      "id: 162 , x: 250.78510447432467 , Y: 491.61782585933827 , connection: []\n",
      "id: 163 , x: 130.3627551442506 , Y: 283.554450068628 , connection: [<__main__.Node object at 0x000002A0B8B61FD0>, <__main__.Node object at 0x000002A0B8B6ADD8>]\n",
      "id: 164 , x: 52.98524597220644 , Y: 95.58609981216787 , connection: [<__main__.Node object at 0x000002A0B8B6D9E8>]\n",
      "id: 165 , x: 372.36173941032564 , Y: 91.84659112964127 , connection: [<__main__.Node object at 0x000002A0B8B6D470>]\n",
      "id: 166 , x: 458.7106197735188 , Y: 84.32602690065227 , connection: [<__main__.Node object at 0x000002A0B8B6A898>, <__main__.Node object at 0x000002A0B8B6AC50>, <__main__.Node object at 0x000002A0B8B6DCF8>, <__main__.Node object at 0x000002A0B8B6A978>]\n",
      "id: 167 , x: 339.6699255614064 , Y: 180.87495379680536 , connection: []\n",
      "id: 168 , x: 426.89646240287675 , Y: 28.19726556957963 , connection: [<__main__.Node object at 0x000002A0B8B6D390>]\n",
      "id: 169 , x: 19.457297736874157 , Y: 380.4615398772346 , connection: [<__main__.Node object at 0x000002A0B8B6D828>, <__main__.Node object at 0x000002A0B8B6DFD0>]\n",
      "id: 170 , x: 157.7908155171851 , Y: 81.77014929968045 , connection: [<__main__.Node object at 0x000002A0B8B72400>, <__main__.Node object at 0x000002A0B8B6D358>, <__main__.Node object at 0x000002A0B8B6A908>, <__main__.Node object at 0x000002A0B8B6D2E8>]\n",
      "id: 171 , x: 286.3411205187198 , Y: 163.207064519728 , connection: [<__main__.Node object at 0x000002A0B8B6DD30>, <__main__.Node object at 0x000002A0B8B6D860>, <__main__.Node object at 0x000002A0B8B6A978>]\n",
      "id: 172 , x: 156.41187963160775 , Y: 33.78090049513738 , connection: [<__main__.Node object at 0x000002A0B8B6A828>]\n",
      "id: 173 , x: 217.5784885518091 , Y: 278.58818349444596 , connection: [<__main__.Node object at 0x000002A0B8B6A2B0>, <__main__.Node object at 0x000002A0B8B61C88>]\n",
      "id: 174 , x: 365.9192428628401 , Y: 490.8736544505905 , connection: [<__main__.Node object at 0x000002A0B8B6D908>]\n",
      "id: 175 , x: 337.23479376983914 , Y: 144.14983207878203 , connection: [<__main__.Node object at 0x000002A0B8B6A160>]\n",
      "id: 176 , x: 113.76982590671636 , Y: 283.16763232518423 , connection: [<__main__.Node object at 0x000002A0B8B6D5F8>, <__main__.Node object at 0x000002A0B8B72320>, <__main__.Node object at 0x000002A0B8B6D940>]\n",
      "id: 177 , x: 48.162206607313465 , Y: 306.49210673314724 , connection: [<__main__.Node object at 0x000002A0B8B72588>, <__main__.Node object at 0x000002A0B8B72208>, <__main__.Node object at 0x000002A0B8B6ADA0>, <__main__.Node object at 0x000002A0B8B6DB70>]\n",
      "id: 178 , x: 208.28290797935733 , Y: 77.51105830062028 , connection: [<__main__.Node object at 0x000002A0B8B6A208>, <__main__.Node object at 0x000002A0B8B723C8>, <__main__.Node object at 0x000002A0B8B721D0>]\n",
      "id: 179 , x: 429.74069104021845 , Y: 7.926142353205656 , connection: [<__main__.Node object at 0x000002A0B8B6D898>, <__main__.Node object at 0x000002A0B8B6D278>, <__main__.Node object at 0x000002A0B8B6DEF0>, <__main__.Node object at 0x000002A0B8B61F60>, <__main__.Node object at 0x000002A0B8B6D9B0>, <__main__.Node object at 0x000002A0B8B6A0B8>]\n",
      "id: 180 , x: 129.09499149200187 , Y: 155.37304271456566 , connection: []\n",
      "id: 181 , x: 482.45554211439315 , Y: 416.14061618452126 , connection: [<__main__.Node object at 0x000002A0B8B6A6D8>, <__main__.Node object at 0x000002A0B8B6A160>]\n",
      "id: 182 , x: 282.0812128709028 , Y: 126.33425392203024 , connection: [<__main__.Node object at 0x000002A0B8B72518>, <__main__.Node object at 0x000002A0B8B6D908>]\n",
      "id: 183 , x: 419.55842030940755 , Y: 197.06519758575024 , connection: [<__main__.Node object at 0x000002A0B8B61FD0>, <__main__.Node object at 0x000002A0B8B6D550>]\n",
      "id: 184 , x: 125.94847996006358 , Y: 220.3380871180916 , connection: [<__main__.Node object at 0x000002A0B8B6DCC0>, <__main__.Node object at 0x000002A0B8B61BE0>, <__main__.Node object at 0x000002A0B8B61AC8>]\n",
      "id: 185 , x: 236.93106382191 , Y: 4.130804945705724 , connection: [<__main__.Node object at 0x000002A0B8B721D0>]\n",
      "id: 186 , x: 144.10344784707064 , Y: 446.48981994412645 , connection: []\n",
      "id: 187 , x: 453.2507125272557 , Y: 214.1131884943801 , connection: [<__main__.Node object at 0x000002A0B8B6A668>, <__main__.Node object at 0x000002A0B8B6DDD8>]\n",
      "id: 188 , x: 65.18691871669103 , Y: 126.67301746840043 , connection: [<__main__.Node object at 0x000002A0B8B6AD30>]\n",
      "id: 189 , x: 341.33864439929954 , Y: 465.7498855467598 , connection: [<__main__.Node object at 0x000002A0B8B61EB8>, <__main__.Node object at 0x000002A0B8B6A9E8>, <__main__.Node object at 0x000002A0B8B6DC50>]\n",
      "id: 190 , x: 250.4501635638056 , Y: 382.3324262410374 , connection: [<__main__.Node object at 0x000002A0B8B6D9E8>, <__main__.Node object at 0x000002A0B8B6D390>]\n",
      "id: 191 , x: 22.63434191907221 , Y: 315.715613107564 , connection: [<__main__.Node object at 0x000002A0B8B6A390>]\n",
      "id: 192 , x: 70.1548266462631 , Y: 90.55630105668399 , connection: [<__main__.Node object at 0x000002A0B8B6A860>, <__main__.Node object at 0x000002A0B8B6A780>]\n",
      "id: 193 , x: 467.35978970095766 , Y: 14.63243461561331 , connection: []\n",
      "id: 194 , x: 406.5044266397264 , Y: 167.34614133348518 , connection: [<__main__.Node object at 0x000002A0B8B6DCC0>, <__main__.Node object at 0x000002A0B8B6DBE0>, <__main__.Node object at 0x000002A0B8B6A3C8>, <__main__.Node object at 0x000002A0B8B61E48>, <__main__.Node object at 0x000002A0B8B61FD0>]\n",
      "id: 195 , x: 139.45331576571917 , Y: 43.83328610893861 , connection: []\n",
      "id: 196 , x: 491.8830252076763 , Y: 430.9942977577118 , connection: [<__main__.Node object at 0x000002A0B8B6AD68>, <__main__.Node object at 0x000002A0B8B43F60>, <__main__.Node object at 0x000002A0B8B43F60>, <__main__.Node object at 0x000002A0B8B720B8>]\n",
      "id: 197 , x: 64.65706405374694 , Y: 151.83550885067655 , connection: []\n",
      "id: 198 , x: 252.10209268769813 , Y: 177.00695281478534 , connection: [<__main__.Node object at 0x000002A0B8B6DCC0>]\n",
      "id: 199 , x: 75.39541049322007 , Y: 314.0849760005143 , connection: [<__main__.Node object at 0x000002A0B8B6D898>]\n"
     ]
    }
   ],
   "source": [
    "for i in nodes:\n",
    "    i.print()"
   ]
  },
  {
   "cell_type": "code",
   "execution_count": null,
   "metadata": {},
   "outputs": [],
   "source": []
  },
  {
   "cell_type": "code",
   "execution_count": null,
   "metadata": {},
   "outputs": [],
   "source": []
  },
  {
   "cell_type": "code",
   "execution_count": 7,
   "metadata": {},
   "outputs": [],
   "source": [
    "class Graph:\n",
    "    def __init__(self, num, numOfConnections):\n",
    "#         print('node')\n",
    "        self.num = num\n",
    "        self.width = 500\n",
    "        self.height = 500\n",
    "        self.nodes = []\n",
    "        for i in range(self.num):\n",
    "            self.nodes.append(Node(i, self.width, self.height))\n",
    "        self.init(numOfConnections)\n",
    "    def init(self, num=100):\n",
    "        for i in range(num):\n",
    "            index0 = math.floor( random.random() * self.num )\n",
    "            index1 = math.floor( random.random() * self.num )\n",
    "            if (index0 != index1):\n",
    "                self.nodes[index0].addNode(self.nodes[index1])\n",
    "    def print(self):\n",
    "        print('numOfnodes:', len(self.nodes))"
   ]
  },
  {
   "cell_type": "code",
   "execution_count": 8,
   "metadata": {
    "scrolled": false
   },
   "outputs": [
    {
     "name": "stdout",
     "output_type": "stream",
     "text": [
      "numOfnodes: 70\n",
      "id: 50 , x: 80.38567811376906 , Y: 395.68281456618 , connection: [<__main__.Node object at 0x000002A0B8B7B4A8>]\n"
     ]
    }
   ],
   "source": [
    "g = Graph(70, 100)\n",
    "g.print()\n",
    "g.nodes[50].print()"
   ]
  },
  {
   "cell_type": "code",
   "execution_count": null,
   "metadata": {},
   "outputs": [],
   "source": []
  },
  {
   "cell_type": "code",
   "execution_count": 9,
   "metadata": {},
   "outputs": [],
   "source": [
    "import tkinter\n",
    "root = tkinter.Tk()\n",
    "myCanvas = tkinter.Canvas(root, bg=\"blue\", height=g.height, width=g.width)\n",
    "myCanvas.pack()\n",
    "\n",
    "def drawPoint(x, y, r = 2): #center coordinates, radius\n",
    "    myCanvas.create_oval(x - r, y - r, x + r, y + r, outline='white', fill=\"red\", width=2, stipple=\"gray50\")\n",
    "def drawLine(x0, y0, x1, y1 ):\n",
    "    myCanvas.create_line(x0, y0, x1, y1, dash=(4, 2), fill=\"#fb0\")\n",
    "\n",
    "for i in g.nodes:\n",
    "    x = i.pos['x']\n",
    "    y = i.pos['y']\n",
    "    drawPoint(x,y, (len(i.connections)+1 ) * 2)\n",
    "    \n",
    "    if len(i.connections) > 0:\n",
    "        for other in i.connections:\n",
    "            xOther = other.pos['x']\n",
    "            yOther = other.pos['y']\n",
    "            drawLine(x,y, xOther,yOther )\n",
    "    \n",
    "    \n",
    "    \n",
    "root.mainloop()"
   ]
  },
  {
   "cell_type": "code",
   "execution_count": null,
   "metadata": {},
   "outputs": [],
   "source": []
  }
 ],
 "metadata": {
  "kernelspec": {
   "display_name": "Python 3",
   "language": "python",
   "name": "python3"
  },
  "language_info": {
   "codemirror_mode": {
    "name": "ipython",
    "version": 3
   },
   "file_extension": ".py",
   "mimetype": "text/x-python",
   "name": "python",
   "nbconvert_exporter": "python",
   "pygments_lexer": "ipython3",
   "version": "3.5.2"
  }
 },
 "nbformat": 4,
 "nbformat_minor": 2
}

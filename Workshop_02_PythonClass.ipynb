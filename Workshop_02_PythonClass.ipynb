{
 "cells": [
  {
   "cell_type": "markdown",
   "metadata": {},
   "source": [
    "### Introduction to Class\n",
    "----\n",
    "##### instructor: NJ Namju Lee \n",
    "##### nj.namju@gmail.com\n",
    "##### www.njstudio.co.kr"
   ]
  },
  {
   "cell_type": "markdown",
   "metadata": {},
   "source": [
    "##### link :  https://docs.python.org/3/tutorial/classes.html"
   ]
  },
  {
   "cell_type": "code",
   "execution_count": 4,
   "metadata": {},
   "outputs": [],
   "source": [
    "class Person:\n",
    "    def __init__(self, name, height = 100, age = 10 ):\n",
    "        self.name = name\n",
    "        self.height = height\n",
    "        self.age = age\n",
    "        self.isAlive = True\n",
    "    def kill(self, other):\n",
    "        other.isAlive = False;\n",
    "        other.by = self;\n",
    "    def log(self):\n",
    "        if(self.isAlive):\n",
    "            print('name:', self.name,', age:', self.age,', height:', self.height, ', isAlive:', self.isAlive  )\n",
    "        else:\n",
    "            print(self.name,'was killed by', self.by.name )"
   ]
  },
  {
   "cell_type": "code",
   "execution_count": 5,
   "metadata": {},
   "outputs": [
    {
     "name": "stdout",
     "output_type": "stream",
     "text": [
      "name: nj , age: 21 , height: 190 , isAlive: True\n"
     ]
    }
   ],
   "source": [
    "p = Person('nj', 190, 21)\n",
    "p.log()"
   ]
  },
  {
   "cell_type": "code",
   "execution_count": 6,
   "metadata": {},
   "outputs": [
    {
     "name": "stdout",
     "output_type": "stream",
     "text": [
      "nj was killed by dj\n"
     ]
    }
   ],
   "source": [
    "p2 = Person('dj');\n",
    "p2.kill(p)\n",
    "\n",
    "p.log()"
   ]
  },
  {
   "cell_type": "code",
   "execution_count": null,
   "metadata": {},
   "outputs": [],
   "source": []
  },
  {
   "cell_type": "code",
   "execution_count": 5,
   "metadata": {},
   "outputs": [],
   "source": [
    "# your code here\n",
    "\n",
    "\n"
   ]
  },
  {
   "cell_type": "code",
   "execution_count": 48,
   "metadata": {},
   "outputs": [
    {
     "name": "stdout",
     "output_type": "stream",
     "text": [
      "done!\n",
      "name: nj, height: 190, weight: 70\n",
      "done!\n",
      "name: dj, height: 200, weight: 100\n",
      "12\n"
     ]
    }
   ],
   "source": [
    "import random\n",
    "class Person:\n",
    "    def __init__(self, name, height, weight ):\n",
    "        self.name = name\n",
    "        self.height = height\n",
    "        self.weight = weight\n",
    "        self.age = 10\n",
    "        self.isAlive = True\n",
    "        print('done!')\n",
    "    def kill(self, person):\n",
    "        person.isAlive = False\n",
    "        person.killedby = self;\n",
    "    def aging(self):\n",
    "        self.age += int(random.random() * 10 + 1)\n",
    "        print(self.age)\n",
    "        if self.age > 99:\n",
    "            self.isAlive = False;\n",
    "    def print(self):\n",
    "        if self.isAlive:\n",
    "            print('name: '+ self.name + ', height: '+ str(self.height) + ', weight: '+ str(self.weight ))\n",
    "        else:\n",
    "            print('name: '+ self.name + ' was gone... ')\n",
    "\n",
    "p = Person('nj', 190, 70 )\n",
    "p.print()\n",
    "pp = Person('dj', 200, 100)\n",
    "pp.print()\n",
    "p.aging()"
   ]
  },
  {
   "cell_type": "code",
   "execution_count": 57,
   "metadata": {},
   "outputs": [
    {
     "name": "stdout",
     "output_type": "stream",
     "text": [
      "73\n"
     ]
    }
   ],
   "source": [
    "p.aging()"
   ]
  },
  {
   "cell_type": "code",
   "execution_count": 34,
   "metadata": {},
   "outputs": [
    {
     "name": "stdout",
     "output_type": "stream",
     "text": [
      "name: nj was gone... \n",
      "dj\n"
     ]
    }
   ],
   "source": [
    "# pp.kill(p)\n",
    "# p.print()\n",
    "# print(p.killedby.name)"
   ]
  },
  {
   "cell_type": "code",
   "execution_count": 27,
   "metadata": {},
   "outputs": [
    {
     "name": "stdout",
     "output_type": "stream",
     "text": [
      "name: nj was gone... \n"
     ]
    }
   ],
   "source": [
    "# p.height -= 5\n",
    "# p.isAlive = False\n",
    "# p.print()"
   ]
  },
  {
   "cell_type": "code",
   "execution_count": null,
   "metadata": {},
   "outputs": [],
   "source": []
  }
 ],
 "metadata": {
  "kernelspec": {
   "display_name": "Python 3",
   "language": "python",
   "name": "python3"
  },
  "language_info": {
   "codemirror_mode": {
    "name": "ipython",
    "version": 3
   },
   "file_extension": ".py",
   "mimetype": "text/x-python",
   "name": "python",
   "nbconvert_exporter": "python",
   "pygments_lexer": "ipython3",
   "version": "3.5.2"
  }
 },
 "nbformat": 4,
 "nbformat_minor": 2
}

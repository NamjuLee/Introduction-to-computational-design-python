{
 "cells": [
  {
   "cell_type": "markdown",
   "metadata": {},
   "source": [
    "### Node generator and visualization in GH 1\n",
    "----\n",
    "##### instructor: NJ Namju Lee \n",
    "##### nj.namju@gmail.com\n",
    "##### www.njstudio.co.kr"
   ]
  },
  {
   "cell_type": "code",
   "execution_count": 1,
   "metadata": {},
   "outputs": [],
   "source": [
    "import random\n",
    "import math"
   ]
  },
  {
   "cell_type": "code",
   "execution_count": 2,
   "metadata": {},
   "outputs": [],
   "source": [
    "class Node:\n",
    "    def __init__(self, id):\n",
    "#         print('node')\n",
    "        self.id = id\n",
    "        self.connections = []\n",
    "    def addNode(self, other):\n",
    "        self.connections.append(other);\n",
    "    def print(self):\n",
    "        print('id:', self.id,', connection:', self.connections )"
   ]
  },
  {
   "cell_type": "code",
   "execution_count": 3,
   "metadata": {},
   "outputs": [
    {
     "name": "stdout",
     "output_type": "stream",
     "text": [
      "id: 10 , connection: []\n"
     ]
    }
   ],
   "source": [
    "numOfNodes = 200\n",
    "nodes = []\n",
    "for i in range(numOfNodes):\n",
    "    n = Node(i)\n",
    "    nodes.append(n);\n",
    "\n",
    "nodes[10].print()"
   ]
  },
  {
   "cell_type": "code",
   "execution_count": 4,
   "metadata": {},
   "outputs": [],
   "source": [
    "for i in range(300):\n",
    "    index0 = math.floor( random.random() * numOfNodes )\n",
    "    index1 = math.floor( random.random() * numOfNodes )\n",
    "    if (index0 != index1):\n",
    "        nodes[index0].addNode(nodes[index1])\n",
    "    "
   ]
  },
  {
   "cell_type": "code",
   "execution_count": 5,
   "metadata": {},
   "outputs": [
    {
     "name": "stdout",
     "output_type": "stream",
     "text": [
      "id: 73 , connection: [<__main__.Node object at 0x000002843C768160>, <__main__.Node object at 0x000002843C7670B8>]\n"
     ]
    }
   ],
   "source": [
    "nodes[2].connections[0].print()"
   ]
  },
  {
   "cell_type": "code",
   "execution_count": 6,
   "metadata": {},
   "outputs": [
    {
     "name": "stdout",
     "output_type": "stream",
     "text": [
      "id: 0 , connection: [<__main__.Node object at 0x000002843C768400>]\n",
      "id: 1 , connection: []\n",
      "id: 2 , connection: [<__main__.Node object at 0x000002843C768B38>]\n",
      "id: 3 , connection: [<__main__.Node object at 0x000002843C7672B0>, <__main__.Node object at 0x000002843C7676A0>]\n",
      "id: 4 , connection: [<__main__.Node object at 0x000002843C761F28>, <__main__.Node object at 0x000002843C767240>]\n",
      "id: 5 , connection: [<__main__.Node object at 0x000002843C761E80>, <__main__.Node object at 0x000002843C76B668>]\n",
      "id: 6 , connection: []\n",
      "id: 7 , connection: []\n",
      "id: 8 , connection: []\n",
      "id: 9 , connection: [<__main__.Node object at 0x000002843C76B588>, <__main__.Node object at 0x000002843C76B198>]\n",
      "id: 10 , connection: [<__main__.Node object at 0x000002843C7687B8>]\n",
      "id: 11 , connection: [<__main__.Node object at 0x000002843C768198>, <__main__.Node object at 0x000002843C768470>]\n",
      "id: 12 , connection: [<__main__.Node object at 0x000002843C767BA8>]\n",
      "id: 13 , connection: [<__main__.Node object at 0x000002843C767400>]\n",
      "id: 14 , connection: []\n",
      "id: 15 , connection: [<__main__.Node object at 0x000002843C767F98>]\n",
      "id: 16 , connection: [<__main__.Node object at 0x000002843C7670F0>, <__main__.Node object at 0x000002843C768F98>, <__main__.Node object at 0x000002843C76B630>]\n",
      "id: 17 , connection: [<__main__.Node object at 0x000002843C768DD8>, <__main__.Node object at 0x000002843C767128>, <__main__.Node object at 0x000002843C761F28>, <__main__.Node object at 0x000002843C768978>]\n",
      "id: 18 , connection: [<__main__.Node object at 0x000002843C76B3C8>, <__main__.Node object at 0x000002843C76B390>, <__main__.Node object at 0x000002843C768940>]\n",
      "id: 19 , connection: [<__main__.Node object at 0x000002843C767898>]\n",
      "id: 20 , connection: []\n",
      "id: 21 , connection: [<__main__.Node object at 0x000002843C768128>, <__main__.Node object at 0x000002843C767588>, <__main__.Node object at 0x000002843C767DA0>]\n",
      "id: 22 , connection: [<__main__.Node object at 0x000002843C761F28>]\n",
      "id: 23 , connection: [<__main__.Node object at 0x000002843C767518>]\n",
      "id: 24 , connection: []\n",
      "id: 25 , connection: []\n",
      "id: 26 , connection: [<__main__.Node object at 0x000002843C767828>]\n",
      "id: 27 , connection: [<__main__.Node object at 0x000002843C761C50>]\n",
      "id: 28 , connection: [<__main__.Node object at 0x000002843C768F28>, <__main__.Node object at 0x000002843C7684E0>]\n",
      "id: 29 , connection: [<__main__.Node object at 0x000002843C768CC0>, <__main__.Node object at 0x000002843C768400>]\n",
      "id: 30 , connection: [<__main__.Node object at 0x000002843C761E10>]\n",
      "id: 31 , connection: [<__main__.Node object at 0x000002843C767D30>]\n",
      "id: 32 , connection: [<__main__.Node object at 0x000002843C767748>]\n",
      "id: 33 , connection: [<__main__.Node object at 0x000002843C76B5C0>, <__main__.Node object at 0x000002843C7685C0>, <__main__.Node object at 0x000002843C768E80>]\n",
      "id: 34 , connection: [<__main__.Node object at 0x000002843C768978>, <__main__.Node object at 0x000002843C76B2E8>, <__main__.Node object at 0x000002843C7685F8>]\n",
      "id: 35 , connection: [<__main__.Node object at 0x000002843C7673C8>, <__main__.Node object at 0x000002843C768320>]\n",
      "id: 36 , connection: [<__main__.Node object at 0x000002843C761F28>]\n",
      "id: 37 , connection: [<__main__.Node object at 0x000002843C768F28>, <__main__.Node object at 0x000002843C7680F0>, <__main__.Node object at 0x000002843C76B748>]\n",
      "id: 38 , connection: [<__main__.Node object at 0x000002843C761B70>]\n",
      "id: 39 , connection: []\n",
      "id: 40 , connection: [<__main__.Node object at 0x000002843C768588>, <__main__.Node object at 0x000002843C767400>]\n",
      "id: 41 , connection: [<__main__.Node object at 0x000002843C767A58>, <__main__.Node object at 0x000002843C76B2E8>, <__main__.Node object at 0x000002843C76B160>, <__main__.Node object at 0x000002843C76B160>]\n",
      "id: 42 , connection: [<__main__.Node object at 0x000002843C768E80>]\n",
      "id: 43 , connection: [<__main__.Node object at 0x000002843C7672B0>]\n",
      "id: 44 , connection: [<__main__.Node object at 0x000002843C767400>]\n",
      "id: 45 , connection: [<__main__.Node object at 0x000002843C767438>]\n",
      "id: 46 , connection: [<__main__.Node object at 0x000002843C767F28>, <__main__.Node object at 0x000002843C7677B8>]\n",
      "id: 47 , connection: []\n",
      "id: 48 , connection: []\n",
      "id: 49 , connection: [<__main__.Node object at 0x000002843C7676D8>, <__main__.Node object at 0x000002843C7687B8>]\n",
      "id: 50 , connection: [<__main__.Node object at 0x000002843C76B128>]\n",
      "id: 51 , connection: []\n",
      "id: 52 , connection: [<__main__.Node object at 0x000002843C767710>, <__main__.Node object at 0x000002843C768B38>, <__main__.Node object at 0x000002843C767240>, <__main__.Node object at 0x000002843C767DA0>, <__main__.Node object at 0x000002843C767D30>]\n",
      "id: 53 , connection: [<__main__.Node object at 0x000002843C767358>]\n",
      "id: 54 , connection: [<__main__.Node object at 0x000002843C768198>]\n",
      "id: 55 , connection: [<__main__.Node object at 0x000002843C768390>]\n",
      "id: 56 , connection: []\n",
      "id: 57 , connection: [<__main__.Node object at 0x000002843C767B38>, <__main__.Node object at 0x000002843C7677F0>, <__main__.Node object at 0x000002843C767908>, <__main__.Node object at 0x000002843C7672E8>, <__main__.Node object at 0x000002843C768898>]\n",
      "id: 58 , connection: []\n",
      "id: 59 , connection: [<__main__.Node object at 0x000002843C768BA8>, <__main__.Node object at 0x000002843C761B38>]\n",
      "id: 60 , connection: []\n",
      "id: 61 , connection: [<__main__.Node object at 0x000002843C761E10>]\n",
      "id: 62 , connection: [<__main__.Node object at 0x000002843C761C50>]\n",
      "id: 63 , connection: []\n",
      "id: 64 , connection: [<__main__.Node object at 0x000002843C768CF8>]\n",
      "id: 65 , connection: []\n",
      "id: 66 , connection: [<__main__.Node object at 0x000002843C761D30>]\n",
      "id: 67 , connection: [<__main__.Node object at 0x000002843C768588>, <__main__.Node object at 0x000002843C767DD8>, <__main__.Node object at 0x000002843C76B0F0>, <__main__.Node object at 0x000002843C767F60>]\n",
      "id: 68 , connection: [<__main__.Node object at 0x000002843C76B550>, <__main__.Node object at 0x000002843C76B1D0>]\n",
      "id: 69 , connection: [<__main__.Node object at 0x000002843C7686A0>, <__main__.Node object at 0x000002843C768BA8>]\n",
      "id: 70 , connection: [<__main__.Node object at 0x000002843C767E80>, <__main__.Node object at 0x000002843C76B6A0>, <__main__.Node object at 0x000002843C768F28>]\n",
      "id: 71 , connection: []\n",
      "id: 72 , connection: [<__main__.Node object at 0x000002843C761FD0>]\n",
      "id: 73 , connection: [<__main__.Node object at 0x000002843C768160>, <__main__.Node object at 0x000002843C7670B8>]\n",
      "id: 74 , connection: [<__main__.Node object at 0x000002843C761F28>]\n",
      "id: 75 , connection: [<__main__.Node object at 0x000002843C761B00>, <__main__.Node object at 0x000002843C7684A8>, <__main__.Node object at 0x000002843C767A90>]\n",
      "id: 76 , connection: [<__main__.Node object at 0x000002843C767E10>, <__main__.Node object at 0x000002843C768358>, <__main__.Node object at 0x000002843C76B470>, <__main__.Node object at 0x000002843C7685F8>, <__main__.Node object at 0x000002843C761C88>]\n",
      "id: 77 , connection: [<__main__.Node object at 0x000002843C767908>]\n",
      "id: 78 , connection: [<__main__.Node object at 0x000002843C767358>, <__main__.Node object at 0x000002843C7678D0>, <__main__.Node object at 0x000002843C768668>, <__main__.Node object at 0x000002843C761CC0>]\n",
      "id: 79 , connection: [<__main__.Node object at 0x000002843C767CF8>]\n",
      "id: 80 , connection: [<__main__.Node object at 0x000002843C7672B0>]\n",
      "id: 81 , connection: [<__main__.Node object at 0x000002843C761E80>, <__main__.Node object at 0x000002843C76B6A0>]\n",
      "id: 82 , connection: []\n",
      "id: 83 , connection: []\n",
      "id: 84 , connection: [<__main__.Node object at 0x000002843C7686D8>, <__main__.Node object at 0x000002843C767CC0>, <__main__.Node object at 0x000002843C76B320>]\n",
      "id: 85 , connection: []\n",
      "id: 86 , connection: [<__main__.Node object at 0x000002843C768B38>, <__main__.Node object at 0x000002843C768B00>]\n",
      "id: 87 , connection: [<__main__.Node object at 0x000002843C7689E8>]\n",
      "id: 88 , connection: [<__main__.Node object at 0x000002843C768048>, <__main__.Node object at 0x000002843C76B748>]\n",
      "id: 89 , connection: [<__main__.Node object at 0x000002843C768208>, <__main__.Node object at 0x000002843C76B080>]\n",
      "id: 90 , connection: [<__main__.Node object at 0x000002843C76B080>]\n",
      "id: 91 , connection: [<__main__.Node object at 0x000002843C767710>]\n",
      "id: 92 , connection: [<__main__.Node object at 0x000002843C768A58>]\n",
      "id: 93 , connection: [<__main__.Node object at 0x000002843C7682E8>, <__main__.Node object at 0x000002843C768828>, <__main__.Node object at 0x000002843C761F28>]\n",
      "id: 94 , connection: [<__main__.Node object at 0x000002843C767940>, <__main__.Node object at 0x000002843C7676D8>, <__main__.Node object at 0x000002843C767438>]\n",
      "id: 95 , connection: []\n",
      "id: 96 , connection: [<__main__.Node object at 0x000002843C7683C8>, <__main__.Node object at 0x000002843C768240>, <__main__.Node object at 0x000002843C768630>, <__main__.Node object at 0x000002843C768DD8>]\n",
      "id: 97 , connection: [<__main__.Node object at 0x000002843C761DA0>, <__main__.Node object at 0x000002843C761B38>]\n",
      "id: 98 , connection: [<__main__.Node object at 0x000002843C761B70>]\n"
     ]
    },
    {
     "name": "stdout",
     "output_type": "stream",
     "text": [
      "id: 99 , connection: [<__main__.Node object at 0x000002843C767A90>]\n",
      "id: 100 , connection: [<__main__.Node object at 0x000002843C76B710>]\n",
      "id: 101 , connection: [<__main__.Node object at 0x000002843C761F60>, <__main__.Node object at 0x000002843C767B70>]\n",
      "id: 102 , connection: [<__main__.Node object at 0x000002843C768C50>, <__main__.Node object at 0x000002843C768F98>, <__main__.Node object at 0x000002843C767B70>, <__main__.Node object at 0x000002843C768E80>]\n",
      "id: 103 , connection: [<__main__.Node object at 0x000002843C767E10>, <__main__.Node object at 0x000002843C761E80>]\n",
      "id: 104 , connection: []\n",
      "id: 105 , connection: [<__main__.Node object at 0x000002843C767B70>]\n",
      "id: 106 , connection: [<__main__.Node object at 0x000002843C76B4A8>]\n",
      "id: 107 , connection: [<__main__.Node object at 0x000002843C768BE0>]\n",
      "id: 108 , connection: [<__main__.Node object at 0x000002843C767908>, <__main__.Node object at 0x000002843C7674A8>, <__main__.Node object at 0x000002843C768550>, <__main__.Node object at 0x000002843C76B160>, <__main__.Node object at 0x000002843C76B4E0>]\n",
      "id: 109 , connection: []\n",
      "id: 110 , connection: []\n",
      "id: 111 , connection: [<__main__.Node object at 0x000002843C76B748>]\n",
      "id: 112 , connection: []\n",
      "id: 113 , connection: [<__main__.Node object at 0x000002843C76B630>]\n",
      "id: 114 , connection: [<__main__.Node object at 0x000002843C76B438>]\n",
      "id: 115 , connection: []\n",
      "id: 116 , connection: [<__main__.Node object at 0x000002843C767470>, <__main__.Node object at 0x000002843C76B0F0>, <__main__.Node object at 0x000002843C767400>]\n",
      "id: 117 , connection: [<__main__.Node object at 0x000002843C768E10>, <__main__.Node object at 0x000002843C767A90>, <__main__.Node object at 0x000002843C7684E0>]\n",
      "id: 118 , connection: [<__main__.Node object at 0x000002843C761CF8>]\n",
      "id: 119 , connection: [<__main__.Node object at 0x000002843C761F60>, <__main__.Node object at 0x000002843C761F60>, <__main__.Node object at 0x000002843C76B0F0>]\n",
      "id: 120 , connection: []\n",
      "id: 121 , connection: [<__main__.Node object at 0x000002843C7674A8>, <__main__.Node object at 0x000002843C767EF0>]\n",
      "id: 122 , connection: [<__main__.Node object at 0x000002843C761DD8>, <__main__.Node object at 0x000002843C7681D0>]\n",
      "id: 123 , connection: [<__main__.Node object at 0x000002843C768710>]\n",
      "id: 124 , connection: [<__main__.Node object at 0x000002843C768BA8>]\n",
      "id: 125 , connection: [<__main__.Node object at 0x000002843C768240>]\n",
      "id: 126 , connection: [<__main__.Node object at 0x000002843C7688D0>]\n",
      "id: 127 , connection: [<__main__.Node object at 0x000002843C768390>, <__main__.Node object at 0x000002843C767518>]\n",
      "id: 128 , connection: [<__main__.Node object at 0x000002843C76B630>]\n",
      "id: 129 , connection: [<__main__.Node object at 0x000002843C767C88>]\n",
      "id: 130 , connection: [<__main__.Node object at 0x000002843C767D30>, <__main__.Node object at 0x000002843C767240>, <__main__.Node object at 0x000002843C761D68>]\n",
      "id: 131 , connection: [<__main__.Node object at 0x000002843C76B390>, <__main__.Node object at 0x000002843C767400>, <__main__.Node object at 0x000002843C76B198>]\n",
      "id: 132 , connection: [<__main__.Node object at 0x000002843C768EB8>]\n",
      "id: 133 , connection: []\n",
      "id: 134 , connection: []\n",
      "id: 135 , connection: [<__main__.Node object at 0x000002843C7618D0>, <__main__.Node object at 0x000002843C768B38>]\n",
      "id: 136 , connection: [<__main__.Node object at 0x000002843C7677B8>, <__main__.Node object at 0x000002843C767630>, <__main__.Node object at 0x000002843C767EB8>]\n",
      "id: 137 , connection: [<__main__.Node object at 0x000002843C761E48>]\n",
      "id: 138 , connection: [<__main__.Node object at 0x000002843C767E10>, <__main__.Node object at 0x000002843C761908>, <__main__.Node object at 0x000002843C76B160>, <__main__.Node object at 0x000002843C767B00>]\n",
      "id: 139 , connection: []\n",
      "id: 140 , connection: []\n",
      "id: 141 , connection: []\n",
      "id: 142 , connection: [<__main__.Node object at 0x000002843C767198>]\n",
      "id: 143 , connection: [<__main__.Node object at 0x000002843C767780>, <__main__.Node object at 0x000002843C76B518>]\n",
      "id: 144 , connection: [<__main__.Node object at 0x000002843C7682B0>, <__main__.Node object at 0x000002843C768BA8>]\n",
      "id: 145 , connection: [<__main__.Node object at 0x000002843C767978>, <__main__.Node object at 0x000002843C767438>, <__main__.Node object at 0x000002843C761F28>]\n",
      "id: 146 , connection: [<__main__.Node object at 0x000002843C761DD8>, <__main__.Node object at 0x000002843C768898>, <__main__.Node object at 0x000002843C767048>, <__main__.Node object at 0x000002843C767470>]\n",
      "id: 147 , connection: [<__main__.Node object at 0x000002843C7682B0>, <__main__.Node object at 0x000002843C768048>]\n",
      "id: 148 , connection: [<__main__.Node object at 0x000002843C767EB8>]\n",
      "id: 149 , connection: [<__main__.Node object at 0x000002843C7672B0>, <__main__.Node object at 0x000002843C767BE0>]\n",
      "id: 150 , connection: [<__main__.Node object at 0x000002843C768550>]\n",
      "id: 151 , connection: []\n",
      "id: 152 , connection: []\n",
      "id: 153 , connection: []\n",
      "id: 154 , connection: []\n",
      "id: 155 , connection: [<__main__.Node object at 0x000002843C768320>, <__main__.Node object at 0x000002843C768828>, <__main__.Node object at 0x000002843C767198>]\n",
      "id: 156 , connection: []\n",
      "id: 157 , connection: [<__main__.Node object at 0x000002843C7686A0>, <__main__.Node object at 0x000002843C767710>]\n",
      "id: 158 , connection: [<__main__.Node object at 0x000002843C7677F0>]\n",
      "id: 159 , connection: [<__main__.Node object at 0x000002843C768208>, <__main__.Node object at 0x000002843C761F28>, <__main__.Node object at 0x000002843C767EF0>, <__main__.Node object at 0x000002843C76B630>]\n",
      "id: 160 , connection: [<__main__.Node object at 0x000002843C7689E8>]\n",
      "id: 161 , connection: [<__main__.Node object at 0x000002843C7677F0>, <__main__.Node object at 0x000002843C76B240>]\n",
      "id: 162 , connection: [<__main__.Node object at 0x000002843C7672E8>, <__main__.Node object at 0x000002843C768048>]\n",
      "id: 163 , connection: []\n",
      "id: 164 , connection: [<__main__.Node object at 0x000002843C76B438>, <__main__.Node object at 0x000002843C768908>]\n",
      "id: 165 , connection: []\n",
      "id: 166 , connection: [<__main__.Node object at 0x000002843C76B400>, <__main__.Node object at 0x000002843C76B278>, <__main__.Node object at 0x000002843C761FD0>, <__main__.Node object at 0x000002843C768E10>, <__main__.Node object at 0x000002843C767978>, <__main__.Node object at 0x000002843C768630>]\n",
      "id: 167 , connection: []\n",
      "id: 168 , connection: [<__main__.Node object at 0x000002843C767C50>]\n",
      "id: 169 , connection: [<__main__.Node object at 0x000002843C761F60>, <__main__.Node object at 0x000002843C7672E8>, <__main__.Node object at 0x000002843C768C88>]\n",
      "id: 170 , connection: []\n",
      "id: 171 , connection: [<__main__.Node object at 0x000002843C768358>, <__main__.Node object at 0x000002843C76B630>, <__main__.Node object at 0x000002843C7689E8>]\n",
      "id: 172 , connection: [<__main__.Node object at 0x000002843C761EF0>]\n",
      "id: 173 , connection: [<__main__.Node object at 0x000002843C767DD8>]\n",
      "id: 174 , connection: []\n",
      "id: 175 , connection: [<__main__.Node object at 0x000002843C767908>, <__main__.Node object at 0x000002843C7676A0>, <__main__.Node object at 0x000002843C768438>]\n",
      "id: 176 , connection: [<__main__.Node object at 0x000002843C767BA8>, <__main__.Node object at 0x000002843C768400>]\n",
      "id: 177 , connection: [<__main__.Node object at 0x000002843C768A90>]\n",
      "id: 178 , connection: [<__main__.Node object at 0x000002843C76B3C8>, <__main__.Node object at 0x000002843C76B4A8>, <__main__.Node object at 0x000002843C767668>, <__main__.Node object at 0x000002843C768208>]\n",
      "id: 179 , connection: []\n",
      "id: 180 , connection: [<__main__.Node object at 0x000002843C761B00>, <__main__.Node object at 0x000002843C76B748>, <__main__.Node object at 0x000002843C768AC8>]\n",
      "id: 181 , connection: [<__main__.Node object at 0x000002843C768F28>, <__main__.Node object at 0x000002843C767438>]\n",
      "id: 182 , connection: []\n",
      "id: 183 , connection: [<__main__.Node object at 0x000002843C768BE0>, <__main__.Node object at 0x000002843C767FD0>]\n",
      "id: 184 , connection: [<__main__.Node object at 0x000002843C76B6D8>]\n",
      "id: 185 , connection: [<__main__.Node object at 0x000002843C76B2B0>, <__main__.Node object at 0x000002843C76B6A0>]\n",
      "id: 186 , connection: [<__main__.Node object at 0x000002843C76B550>, <__main__.Node object at 0x000002843C761C88>, <__main__.Node object at 0x000002843C767E80>, <__main__.Node object at 0x000002843C767518>]\n",
      "id: 187 , connection: []\n",
      "id: 188 , connection: [<__main__.Node object at 0x000002843C7682E8>, <__main__.Node object at 0x000002843C767AC8>]\n",
      "id: 189 , connection: []\n",
      "id: 190 , connection: [<__main__.Node object at 0x000002843C761CC0>, <__main__.Node object at 0x000002843C7682E8>, <__main__.Node object at 0x000002843C761FD0>, <__main__.Node object at 0x000002843C768710>, <__main__.Node object at 0x000002843C76B2E8>]\n"
     ]
    },
    {
     "name": "stdout",
     "output_type": "stream",
     "text": [
      "id: 191 , connection: []\n",
      "id: 192 , connection: []\n",
      "id: 193 , connection: [<__main__.Node object at 0x000002843C767438>, <__main__.Node object at 0x000002843C768898>]\n",
      "id: 194 , connection: [<__main__.Node object at 0x000002843C76B6A0>]\n",
      "id: 195 , connection: [<__main__.Node object at 0x000002843C7685F8>]\n",
      "id: 196 , connection: []\n",
      "id: 197 , connection: [<__main__.Node object at 0x000002843C7675C0>, <__main__.Node object at 0x000002843C76B400>, <__main__.Node object at 0x000002843C767550>, <__main__.Node object at 0x000002843C767978>, <__main__.Node object at 0x000002843C767CC0>, <__main__.Node object at 0x000002843C7618D0>]\n",
      "id: 198 , connection: [<__main__.Node object at 0x000002843C767780>]\n",
      "id: 199 , connection: [<__main__.Node object at 0x000002843C768438>, <__main__.Node object at 0x000002843C76B630>]\n"
     ]
    }
   ],
   "source": [
    "for i in nodes:\n",
    "    i.print()"
   ]
  },
  {
   "cell_type": "code",
   "execution_count": null,
   "metadata": {},
   "outputs": [],
   "source": []
  },
  {
   "cell_type": "code",
   "execution_count": null,
   "metadata": {},
   "outputs": [],
   "source": []
  },
  {
   "cell_type": "code",
   "execution_count": 7,
   "metadata": {},
   "outputs": [],
   "source": [
    "class Graph:\n",
    "    def __init__(self, num, numOfConnections):\n",
    "#         print('node')\n",
    "        self.num = num\n",
    "        self.nodes = []\n",
    "        for i in range(self.num):\n",
    "            self.nodes.append(Node(i))\n",
    "        self.init(numOfConnections)\n",
    "    def init(self, num=100):\n",
    "        for i in range(num):\n",
    "            index0 = math.floor( random.random() * self.num )\n",
    "            index1 = math.floor( random.random() * self.num )\n",
    "            if (index0 != index1):\n",
    "                self.nodes[index0].addNode(self.nodes[index1])\n",
    "    def print(self):\n",
    "        print('numOfnodes:', len(self.nodes))"
   ]
  },
  {
   "cell_type": "code",
   "execution_count": 8,
   "metadata": {
    "scrolled": false
   },
   "outputs": [
    {
     "name": "stdout",
     "output_type": "stream",
     "text": [
      "numOfnodes: 70\n",
      "id: 50 , connection: []\n"
     ]
    }
   ],
   "source": [
    "g = Graph(70, 100)\n",
    "g.print()\n",
    "g.nodes[50].print()"
   ]
  },
  {
   "cell_type": "code",
   "execution_count": null,
   "metadata": {},
   "outputs": [],
   "source": []
  }
 ],
 "metadata": {
  "kernelspec": {
   "display_name": "Python 3",
   "language": "python",
   "name": "python3"
  },
  "language_info": {
   "codemirror_mode": {
    "name": "ipython",
    "version": 3
   },
   "file_extension": ".py",
   "mimetype": "text/x-python",
   "name": "python",
   "nbconvert_exporter": "python",
   "pygments_lexer": "ipython3",
   "version": "3.5.2"
  }
 },
 "nbformat": 4,
 "nbformat_minor": 2
}

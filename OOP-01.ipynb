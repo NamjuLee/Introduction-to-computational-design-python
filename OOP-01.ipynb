{
 "cells": [
  {
   "cell_type": "code",
   "execution_count": 11,
   "metadata": {},
   "outputs": [],
   "source": [
    "import math\n",
    "import random"
   ]
  },
  {
   "cell_type": "code",
   "execution_count": 12,
   "metadata": {},
   "outputs": [],
   "source": [
    "class Round:\n",
    "  def __init__(self, history, index):\n",
    "    self.index = index;\n",
    "    self.history = history\n",
    "    self.dataFight = []\n",
    "  def Update(self, log ):\n",
    "    self.dataFight.append(log)\n",
    "  def PrintHistory(self):\n",
    "    for i in self.dataFight:\n",
    "        print(i)\n",
    "class History:\n",
    "  def __init__(self, person):\n",
    "    self.person = person\n",
    "    self.rounds = [Round(self, 0)]\n",
    "  def NewRound(self):\n",
    "    self.rounds.append(Round(self, len(self.rounds)))\n",
    "  def Update(self, log ):\n",
    "    self.rounds[-1].Update(log)\n",
    "  def PrintHistory(self):\n",
    "    for i in self.rounds:\n",
    "        print('---------------------')\n",
    "        i.PrintHistory();\n",
    "class Person:\n",
    "  def __init__(self, name, age = 20):\n",
    "    self.name = name\n",
    "    self.age = age\n",
    "    self.energy = 100;\n",
    "    self.numOfKill = 0;\n",
    "    self.isAlive = True;\n",
    "    self.other = None;\n",
    "    self.power = math.floor(random.random() * 10)\n",
    "    self.history = History(self)\n",
    "  def Rest(self):\n",
    "    self.energy += 10;\n",
    "  def HitByNum(self, other, num):\n",
    "    for i in range(num):\n",
    "        self.Hit(other)\n",
    "  def Hit(self, other):\n",
    "#     self.energy += math.floor(random.random() * 0.9)   \n",
    "    other.energy -= self.power\n",
    "    self.ReportFight(other); # for report\n",
    "    if(other.energy < 0):\n",
    "        self.Kill(other)\n",
    "  def ReportFight(self, other):\n",
    "    log = self.name,'(', self.energy ,')', ' is fighting with ', other.name,'(', other.energy ,')'\n",
    "    print(log);\n",
    "    self.history.Update(log);\n",
    "  def Print(self):\n",
    "    if(self.isAlive):\n",
    "        print('name:', self.name, ', age:', self.age, ', power:', self.power, ', energy:', self.energy  )\n",
    "    else:\n",
    "        print(self.name, 'is gone...by', self.other.name ) \n",
    "  def Kill(self, person):\n",
    "    self.numOfKill += 1\n",
    "    person.isAlive = False\n",
    "    person.other = self\n",
    "    self.history.NewRound()\n",
    "  def PrintHistory(self):\n",
    "    self.history.PrintHistory();\n",
    "    \n",
    "nj = Person('nj', 30)\n",
    "hj = Person('hj', 18)"
   ]
  },
  {
   "cell_type": "code",
   "execution_count": 13,
   "metadata": {},
   "outputs": [
    {
     "name": "stdout",
     "output_type": "stream",
     "text": [
      "name: nj , age: 30 , power: 1 , energy: 100\n",
      "name: hj , age: 18 , power: 6 , energy: 100\n",
      "('hj', '(', 100, ')', ' is fighting with ', 'nj', '(', 94, ')')\n",
      "name: nj , age: 30 , power: 1 , energy: 94\n",
      "name: hj , age: 18 , power: 6 , energy: 100\n"
     ]
    }
   ],
   "source": [
    "nj.Print()\n",
    "hj.Print()\n",
    "\n",
    "hj.Hit(nj)\n",
    "\n",
    "nj.Print()\n",
    "hj.Print()"
   ]
  },
  {
   "cell_type": "code",
   "execution_count": 14,
   "metadata": {},
   "outputs": [
    {
     "name": "stdout",
     "output_type": "stream",
     "text": [
      "nj is gone...by hj\n",
      "name: hj , age: 18 , power: 6 , energy: 100\n"
     ]
    }
   ],
   "source": [
    "hj.Kill(nj)\n",
    "nj.Print()\n",
    "hj.Print()"
   ]
  },
  {
   "cell_type": "code",
   "execution_count": 15,
   "metadata": {},
   "outputs": [
    {
     "name": "stdout",
     "output_type": "stream",
     "text": [
      "('hj', '(', 100, ')', ' is fighting with ', 'ww', '(', 94, ')')\n",
      "('hj', '(', 100, ')', ' is fighting with ', 'ww', '(', 88, ')')\n",
      "('hj', '(', 100, ')', ' is fighting with ', 'ww', '(', 82, ')')\n",
      "('hj', '(', 100, ')', ' is fighting with ', 'ww', '(', 76, ')')\n",
      "('hj', '(', 100, ')', ' is fighting with ', 'ww', '(', 70, ')')\n",
      "('hj', '(', 100, ')', ' is fighting with ', 'ww', '(', 64, ')')\n",
      "('hj', '(', 100, ')', ' is fighting with ', 'ww', '(', 58, ')')\n",
      "('hj', '(', 100, ')', ' is fighting with ', 'ww', '(', 52, ')')\n",
      "('hj', '(', 100, ')', ' is fighting with ', 'ww', '(', 46, ')')\n",
      "('hj', '(', 100, ')', ' is fighting with ', 'ww', '(', 40, ')')\n",
      "('hj', '(', 100, ')', ' is fighting with ', 'ww', '(', 34, ')')\n",
      "('hj', '(', 100, ')', ' is fighting with ', 'ww', '(', 28, ')')\n",
      "name: ww , age: 50 , power: 2 , energy: 28\n",
      "name: hj , age: 18 , power: 6 , energy: 100\n"
     ]
    }
   ],
   "source": [
    "ww = Person('ww', 50)\n",
    "\n",
    "\n",
    "hj.HitByNum(ww, 12)\n",
    "# for i in range(12):\n",
    "#     hj.Hit(ww)\n",
    "\n",
    "ww.Print()\n",
    "hj.Print()"
   ]
  },
  {
   "cell_type": "code",
   "execution_count": null,
   "metadata": {},
   "outputs": [],
   "source": []
  },
  {
   "cell_type": "code",
   "execution_count": 16,
   "metadata": {},
   "outputs": [],
   "source": [
    "class Game:\n",
    "  def __init__(self, names):\n",
    "    self.people = [ Person(i) for i in names ]\n",
    "  def Log(self):\n",
    "    for i in self.people:\n",
    "        i.Print()\n",
    "  def PlanGame(self):\n",
    "    match = self.GetRandomIndex(len(self.people))\n",
    "    \n",
    "    remain = []\n",
    "    \n",
    "    for i in match:\n",
    "        print('------------------')\n",
    "        print(i[0],':', self.people[i[0]].name ,i[1],':', self.people[i[1]].name  )\n",
    "        self.Fight(self.people[i[0]], self.people[i[1]])\n",
    "        if(self.people[i[0]].isAlive):\n",
    "            print('------------------')\n",
    "            print(i[0],':', self.people[i[0]].name, 'winner')\n",
    "        else :\n",
    "            print('------------------')\n",
    "            print(i[1],':', self.people[i[1]].name, 'winner')\n",
    "\n",
    "  def Fight(self, otherA , otherB ):\n",
    "      while(otherA.isAlive and otherB.isAlive):\n",
    "          self.Hit(otherA, otherB)\n",
    "        \n",
    "  def Hit(self, otherA , otherB ):\n",
    "        time = random.random()\n",
    "        if(time < 0.5):\n",
    "            otherA.Hit(otherB)\n",
    "        else:\n",
    "            otherB.Hit(otherA)\n",
    "  def GetRandomIndex(self, theLength):\n",
    "    d = [i for i in range(theLength)]\n",
    "    temp = []\n",
    "    while(len(d)):\n",
    "        out = d.pop( math.floor(random.random() * len(d)))\n",
    "        temp.append(out);\n",
    "    myReturn = [];\n",
    "    for i in range(0, len(temp), 2):\n",
    "        myReturn.append([temp[i], temp[i+1]])\n",
    "    return myReturn"
   ]
  },
  {
   "cell_type": "code",
   "execution_count": null,
   "metadata": {},
   "outputs": [],
   "source": []
  },
  {
   "cell_type": "code",
   "execution_count": 17,
   "metadata": {},
   "outputs": [
    {
     "name": "stdout",
     "output_type": "stream",
     "text": [
      "------------------\n",
      "7 : oj 2 : dj\n",
      "('oj', '(', 100, ')', ' is fighting with ', 'dj', '(', 96, ')')\n",
      "('oj', '(', 100, ')', ' is fighting with ', 'dj', '(', 92, ')')\n",
      "('oj', '(', 100, ')', ' is fighting with ', 'dj', '(', 88, ')')\n",
      "('dj', '(', 88, ')', ' is fighting with ', 'oj', '(', 92, ')')\n",
      "('oj', '(', 92, ')', ' is fighting with ', 'dj', '(', 84, ')')\n",
      "('oj', '(', 92, ')', ' is fighting with ', 'dj', '(', 80, ')')\n",
      "('oj', '(', 92, ')', ' is fighting with ', 'dj', '(', 76, ')')\n",
      "('oj', '(', 92, ')', ' is fighting with ', 'dj', '(', 72, ')')\n",
      "('dj', '(', 72, ')', ' is fighting with ', 'oj', '(', 84, ')')\n",
      "('oj', '(', 84, ')', ' is fighting with ', 'dj', '(', 68, ')')\n",
      "('dj', '(', 68, ')', ' is fighting with ', 'oj', '(', 76, ')')\n",
      "('oj', '(', 76, ')', ' is fighting with ', 'dj', '(', 64, ')')\n",
      "('dj', '(', 64, ')', ' is fighting with ', 'oj', '(', 68, ')')\n",
      "('dj', '(', 64, ')', ' is fighting with ', 'oj', '(', 60, ')')\n",
      "('dj', '(', 64, ')', ' is fighting with ', 'oj', '(', 52, ')')\n",
      "('oj', '(', 52, ')', ' is fighting with ', 'dj', '(', 60, ')')\n",
      "('dj', '(', 60, ')', ' is fighting with ', 'oj', '(', 44, ')')\n",
      "('dj', '(', 60, ')', ' is fighting with ', 'oj', '(', 36, ')')\n",
      "('dj', '(', 60, ')', ' is fighting with ', 'oj', '(', 28, ')')\n",
      "('dj', '(', 60, ')', ' is fighting with ', 'oj', '(', 20, ')')\n",
      "('oj', '(', 20, ')', ' is fighting with ', 'dj', '(', 56, ')')\n",
      "('dj', '(', 56, ')', ' is fighting with ', 'oj', '(', 12, ')')\n",
      "('oj', '(', 12, ')', ' is fighting with ', 'dj', '(', 52, ')')\n",
      "('oj', '(', 12, ')', ' is fighting with ', 'dj', '(', 48, ')')\n",
      "('dj', '(', 48, ')', ' is fighting with ', 'oj', '(', 4, ')')\n",
      "('dj', '(', 48, ')', ' is fighting with ', 'oj', '(', -4, ')')\n",
      "------------------\n",
      "2 : dj winner\n",
      "------------------\n",
      "4 : kj 3 : aj\n",
      "('aj', '(', 100, ')', ' is fighting with ', 'kj', '(', 92, ')')\n",
      "('aj', '(', 100, ')', ' is fighting with ', 'kj', '(', 84, ')')\n",
      "('kj', '(', 84, ')', ' is fighting with ', 'aj', '(', 99, ')')\n",
      "('kj', '(', 84, ')', ' is fighting with ', 'aj', '(', 98, ')')\n",
      "('kj', '(', 84, ')', ' is fighting with ', 'aj', '(', 97, ')')\n",
      "('kj', '(', 84, ')', ' is fighting with ', 'aj', '(', 96, ')')\n",
      "('kj', '(', 84, ')', ' is fighting with ', 'aj', '(', 95, ')')\n",
      "('aj', '(', 95, ')', ' is fighting with ', 'kj', '(', 76, ')')\n",
      "('aj', '(', 95, ')', ' is fighting with ', 'kj', '(', 68, ')')\n",
      "('aj', '(', 95, ')', ' is fighting with ', 'kj', '(', 60, ')')\n",
      "('aj', '(', 95, ')', ' is fighting with ', 'kj', '(', 52, ')')\n",
      "('aj', '(', 95, ')', ' is fighting with ', 'kj', '(', 44, ')')\n",
      "('aj', '(', 95, ')', ' is fighting with ', 'kj', '(', 36, ')')\n",
      "('aj', '(', 95, ')', ' is fighting with ', 'kj', '(', 28, ')')\n",
      "('aj', '(', 95, ')', ' is fighting with ', 'kj', '(', 20, ')')\n",
      "('aj', '(', 95, ')', ' is fighting with ', 'kj', '(', 12, ')')\n",
      "('kj', '(', 12, ')', ' is fighting with ', 'aj', '(', 94, ')')\n",
      "('aj', '(', 94, ')', ' is fighting with ', 'kj', '(', 4, ')')\n",
      "('kj', '(', 4, ')', ' is fighting with ', 'aj', '(', 93, ')')\n",
      "('aj', '(', 93, ')', ' is fighting with ', 'kj', '(', -4, ')')\n",
      "------------------\n",
      "3 : aj winner\n",
      "------------------\n",
      "0 : nj 5 : wj\n",
      "('wj', '(', 100, ')', ' is fighting with ', 'nj', '(', 92, ')')\n",
      "('wj', '(', 100, ')', ' is fighting with ', 'nj', '(', 84, ')')\n",
      "('nj', '(', 84, ')', ' is fighting with ', 'wj', '(', 93, ')')\n",
      "('wj', '(', 93, ')', ' is fighting with ', 'nj', '(', 76, ')')\n",
      "('nj', '(', 76, ')', ' is fighting with ', 'wj', '(', 86, ')')\n",
      "('wj', '(', 86, ')', ' is fighting with ', 'nj', '(', 68, ')')\n",
      "('wj', '(', 86, ')', ' is fighting with ', 'nj', '(', 60, ')')\n",
      "('nj', '(', 60, ')', ' is fighting with ', 'wj', '(', 79, ')')\n",
      "('nj', '(', 60, ')', ' is fighting with ', 'wj', '(', 72, ')')\n",
      "('nj', '(', 60, ')', ' is fighting with ', 'wj', '(', 65, ')')\n",
      "('nj', '(', 60, ')', ' is fighting with ', 'wj', '(', 58, ')')\n",
      "('wj', '(', 58, ')', ' is fighting with ', 'nj', '(', 52, ')')\n",
      "('wj', '(', 58, ')', ' is fighting with ', 'nj', '(', 44, ')')\n",
      "('nj', '(', 44, ')', ' is fighting with ', 'wj', '(', 51, ')')\n",
      "('nj', '(', 44, ')', ' is fighting with ', 'wj', '(', 44, ')')\n",
      "('nj', '(', 44, ')', ' is fighting with ', 'wj', '(', 37, ')')\n",
      "('nj', '(', 44, ')', ' is fighting with ', 'wj', '(', 30, ')')\n",
      "('nj', '(', 44, ')', ' is fighting with ', 'wj', '(', 23, ')')\n",
      "('nj', '(', 44, ')', ' is fighting with ', 'wj', '(', 16, ')')\n",
      "('nj', '(', 44, ')', ' is fighting with ', 'wj', '(', 9, ')')\n",
      "('nj', '(', 44, ')', ' is fighting with ', 'wj', '(', 2, ')')\n",
      "('nj', '(', 44, ')', ' is fighting with ', 'wj', '(', -5, ')')\n",
      "------------------\n",
      "0 : nj winner\n",
      "------------------\n",
      "6 : hj 1 : mj\n",
      "('mj', '(', 100, ')', ' is fighting with ', 'hj', '(', 100, ')')\n",
      "('hj', '(', 100, ')', ' is fighting with ', 'mj', '(', 92, ')')\n",
      "('hj', '(', 100, ')', ' is fighting with ', 'mj', '(', 84, ')')\n",
      "('mj', '(', 84, ')', ' is fighting with ', 'hj', '(', 100, ')')\n",
      "('hj', '(', 100, ')', ' is fighting with ', 'mj', '(', 76, ')')\n",
      "('hj', '(', 100, ')', ' is fighting with ', 'mj', '(', 68, ')')\n",
      "('hj', '(', 100, ')', ' is fighting with ', 'mj', '(', 60, ')')\n",
      "('hj', '(', 100, ')', ' is fighting with ', 'mj', '(', 52, ')')\n",
      "('mj', '(', 52, ')', ' is fighting with ', 'hj', '(', 100, ')')\n",
      "('hj', '(', 100, ')', ' is fighting with ', 'mj', '(', 44, ')')\n",
      "('hj', '(', 100, ')', ' is fighting with ', 'mj', '(', 36, ')')\n",
      "('mj', '(', 36, ')', ' is fighting with ', 'hj', '(', 100, ')')\n",
      "('hj', '(', 100, ')', ' is fighting with ', 'mj', '(', 28, ')')\n",
      "('mj', '(', 28, ')', ' is fighting with ', 'hj', '(', 100, ')')\n",
      "('mj', '(', 28, ')', ' is fighting with ', 'hj', '(', 100, ')')\n",
      "('mj', '(', 28, ')', ' is fighting with ', 'hj', '(', 100, ')')\n",
      "('mj', '(', 28, ')', ' is fighting with ', 'hj', '(', 100, ')')\n",
      "('hj', '(', 100, ')', ' is fighting with ', 'mj', '(', 20, ')')\n",
      "('mj', '(', 20, ')', ' is fighting with ', 'hj', '(', 100, ')')\n",
      "('hj', '(', 100, ')', ' is fighting with ', 'mj', '(', 12, ')')\n",
      "('hj', '(', 100, ')', ' is fighting with ', 'mj', '(', 4, ')')\n",
      "('hj', '(', 100, ')', ' is fighting with ', 'mj', '(', -4, ')')\n",
      "------------------\n",
      "6 : hj winner\n"
     ]
    }
   ],
   "source": [
    "names = [ 'nj', 'mj' , 'dj' , 'aj', 'kj', 'wj', 'hj', 'oj']\n",
    "game = Game(names)\n",
    "# game.Log()\n",
    "game.PlanGame()\n"
   ]
  },
  {
   "cell_type": "code",
   "execution_count": null,
   "metadata": {},
   "outputs": [],
   "source": []
  },
  {
   "cell_type": "code",
   "execution_count": 18,
   "metadata": {},
   "outputs": [
    {
     "name": "stdout",
     "output_type": "stream",
     "text": [
      "name: nj , age: 20 , power: 7 , energy: 44\n",
      "mj is gone...by hj\n",
      "name: dj , age: 20 , power: 8 , energy: 48\n",
      "name: aj , age: 20 , power: 8 , energy: 93\n",
      "kj is gone...by aj\n",
      "wj is gone...by nj\n",
      "name: hj , age: 20 , power: 8 , energy: 100\n",
      "oj is gone...by dj\n"
     ]
    }
   ],
   "source": [
    "game.Fight(game.people[0], game.people[1])\n",
    "game.Log()"
   ]
  },
  {
   "cell_type": "code",
   "execution_count": 19,
   "metadata": {},
   "outputs": [
    {
     "name": "stdout",
     "output_type": "stream",
     "text": [
      "mj is gone...by hj\n",
      "---------------------\n",
      "('mj', '(', 100, ')', ' is fighting with ', 'hj', '(', 100, ')')\n",
      "('mj', '(', 84, ')', ' is fighting with ', 'hj', '(', 100, ')')\n",
      "('mj', '(', 52, ')', ' is fighting with ', 'hj', '(', 100, ')')\n",
      "('mj', '(', 36, ')', ' is fighting with ', 'hj', '(', 100, ')')\n",
      "('mj', '(', 28, ')', ' is fighting with ', 'hj', '(', 100, ')')\n",
      "('mj', '(', 28, ')', ' is fighting with ', 'hj', '(', 100, ')')\n",
      "('mj', '(', 28, ')', ' is fighting with ', 'hj', '(', 100, ')')\n",
      "('mj', '(', 28, ')', ' is fighting with ', 'hj', '(', 100, ')')\n",
      "('mj', '(', 20, ')', ' is fighting with ', 'hj', '(', 100, ')')\n"
     ]
    }
   ],
   "source": [
    "game.people[1].Print()\n",
    "game.people[1].PrintHistory()"
   ]
  },
  {
   "cell_type": "code",
   "execution_count": 20,
   "metadata": {},
   "outputs": [
    {
     "name": "stdout",
     "output_type": "stream",
     "text": [
      "mj is gone...by hj\n",
      "---------------------\n",
      "('mj', '(', 100, ')', ' is fighting with ', 'hj', '(', 100, ')')\n",
      "('mj', '(', 84, ')', ' is fighting with ', 'hj', '(', 100, ')')\n",
      "('mj', '(', 52, ')', ' is fighting with ', 'hj', '(', 100, ')')\n",
      "('mj', '(', 36, ')', ' is fighting with ', 'hj', '(', 100, ')')\n",
      "('mj', '(', 28, ')', ' is fighting with ', 'hj', '(', 100, ')')\n",
      "('mj', '(', 28, ')', ' is fighting with ', 'hj', '(', 100, ')')\n",
      "('mj', '(', 28, ')', ' is fighting with ', 'hj', '(', 100, ')')\n",
      "('mj', '(', 28, ')', ' is fighting with ', 'hj', '(', 100, ')')\n",
      "('mj', '(', 20, ')', ' is fighting with ', 'hj', '(', 100, ')')\n"
     ]
    }
   ],
   "source": [
    "game.Fight(game.people[1], game.people[2])\n",
    "game.people[1].Print()\n",
    "game.people[1].PrintHistory()"
   ]
  },
  {
   "cell_type": "raw",
   "metadata": {},
   "source": []
  },
  {
   "cell_type": "code",
   "execution_count": null,
   "metadata": {},
   "outputs": [],
   "source": [
    "\n"
   ]
  },
  {
   "cell_type": "code",
   "execution_count": null,
   "metadata": {},
   "outputs": [],
   "source": []
  },
  {
   "cell_type": "code",
   "execution_count": null,
   "metadata": {},
   "outputs": [],
   "source": []
  }
 ],
 "metadata": {
  "kernelspec": {
   "display_name": "Python 3",
   "language": "python",
   "name": "python3"
  },
  "language_info": {
   "codemirror_mode": {
    "name": "ipython",
    "version": 3
   },
   "file_extension": ".py",
   "mimetype": "text/x-python",
   "name": "python",
   "nbconvert_exporter": "python",
   "pygments_lexer": "ipython3",
   "version": "3.5.2"
  }
 },
 "nbformat": 4,
 "nbformat_minor": 2
}

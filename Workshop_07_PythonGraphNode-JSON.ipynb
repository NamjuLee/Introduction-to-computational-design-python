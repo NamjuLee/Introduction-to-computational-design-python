{
 "cells": [
  {
   "cell_type": "markdown",
   "metadata": {},
   "source": [
    "### Node generator and visualization in GH 3\n",
    "----\n",
    "##### instructor: NJ Namju Lee \n",
    "##### nj.namju@gmail.com\n",
    "##### www.njstudio.co.kr"
   ]
  },
  {
   "cell_type": "code",
   "execution_count": 1,
   "metadata": {},
   "outputs": [],
   "source": [
    "import random\n",
    "import math"
   ]
  },
  {
   "cell_type": "code",
   "execution_count": 2,
   "metadata": {},
   "outputs": [],
   "source": [
    "class Node:\n",
    "    def __init__(self, id, width, height):\n",
    "#         print('node')\n",
    "        x = random.random() * width\n",
    "        y = random.random() * height;\n",
    "        self.pos = { 'x': x ,'y': y  }\n",
    "        self.id = id\n",
    "        self.connections = []\n",
    "    def addNode(self, other):\n",
    "        self.connections.append(other);\n",
    "    def toJson(self):\n",
    "        outDict = {}\n",
    "        outDict['id'] = self.id\n",
    "        outDict['pos'] = self.pos\n",
    "        idList = []\n",
    "        for i in self.connections:\n",
    "            idList.append(i.id);\n",
    "        outDict['connections'] = idList\n",
    "        return outDict\n",
    "    def print(self):\n",
    "        print('id:', self.id, ', x:', self.pos['x'] , ', Y:', self.pos['y'] , ', connection:', self.connections )"
   ]
  },
  {
   "cell_type": "code",
   "execution_count": 3,
   "metadata": {},
   "outputs": [
    {
     "name": "stdout",
     "output_type": "stream",
     "text": [
      "id: 10 , x: 342.3138647332061 , Y: 119.70366768017482 , connection: []\n",
      "{'connections': [], 'id': 20, 'pos': {'y': 296.8957076437204, 'x': 410.42988046155716}}\n"
     ]
    }
   ],
   "source": [
    "numOfNodes = 200\n",
    "nodes = []\n",
    "for i in range(numOfNodes):\n",
    "    n = Node(i, 500, 500)\n",
    "    nodes.append(n);\n",
    "\n",
    "nodes[10].print()\n",
    "print(nodes[20].toJson())"
   ]
  },
  {
   "cell_type": "code",
   "execution_count": 4,
   "metadata": {},
   "outputs": [],
   "source": [
    "for i in range(300):\n",
    "    index0 = math.floor( random.random() * numOfNodes )\n",
    "    index1 = math.floor( random.random() * numOfNodes )\n",
    "    if (index0 != index1):\n",
    "        nodes[index0].addNode(nodes[index1])\n",
    "    "
   ]
  },
  {
   "cell_type": "code",
   "execution_count": 5,
   "metadata": {},
   "outputs": [
    {
     "name": "stdout",
     "output_type": "stream",
     "text": [
      "id: 68 , x: 383.3466474335624 , Y: 199.1625381319785 , connection: []\n"
     ]
    }
   ],
   "source": [
    "nodes[2].connections[0].print()"
   ]
  },
  {
   "cell_type": "code",
   "execution_count": 6,
   "metadata": {},
   "outputs": [
    {
     "name": "stdout",
     "output_type": "stream",
     "text": [
      "id: 0 , x: 474.9768728149751 , Y: 325.2200253607984 , connection: [<__main__.Node object at 0x0000028CBB7D5588>, <__main__.Node object at 0x0000028CBB7DEA58>]\n",
      "id: 1 , x: 399.19978891827395 , Y: 211.48878388266812 , connection: [<__main__.Node object at 0x0000028CBB7DE9E8>]\n",
      "id: 2 , x: 294.1989345056098 , Y: 448.5998098283215 , connection: [<__main__.Node object at 0x0000028CBB7D5B38>]\n",
      "id: 3 , x: 324.608556355113 , Y: 265.9613054806826 , connection: [<__main__.Node object at 0x0000028CBB7D5F98>]\n",
      "id: 4 , x: 377.8306426404177 , Y: 52.80248797118148 , connection: [<__main__.Node object at 0x0000028CBB7D5080>]\n",
      "id: 5 , x: 160.67704244305207 , Y: 243.7517969134657 , connection: [<__main__.Node object at 0x0000028CBB7DED68>, <__main__.Node object at 0x0000028CBB7DB2B0>, <__main__.Node object at 0x0000028CBB7DB710>]\n",
      "id: 6 , x: 109.33436966739319 , Y: 24.892497228808207 , connection: [<__main__.Node object at 0x0000028CBB7DEB00>, <__main__.Node object at 0x0000028CBA77B860>]\n",
      "id: 7 , x: 452.0340207050662 , Y: 48.722824130248696 , connection: []\n",
      "id: 8 , x: 140.23710333422446 , Y: 322.2834988321513 , connection: [<__main__.Node object at 0x0000028CBB7D2E10>]\n",
      "id: 9 , x: 152.1361873825937 , Y: 398.8062900210265 , connection: []\n",
      "id: 10 , x: 342.3138647332061 , Y: 119.70366768017482 , connection: [<__main__.Node object at 0x0000028CBB7D2EB8>, <__main__.Node object at 0x0000028CBB7D5F28>, <__main__.Node object at 0x0000028CBB7DE748>]\n",
      "id: 11 , x: 399.513233737456 , Y: 375.50763889529316 , connection: [<__main__.Node object at 0x0000028CBB7D5C88>, <__main__.Node object at 0x0000028CBB7DB5F8>]\n",
      "id: 12 , x: 489.1406245852173 , Y: 396.7614877124983 , connection: [<__main__.Node object at 0x0000028CBB7DB518>]\n",
      "id: 13 , x: 366.9305177090627 , Y: 28.363538065090843 , connection: [<__main__.Node object at 0x0000028CBB7D5A90>]\n",
      "id: 14 , x: 345.8464963595927 , Y: 441.1485709968443 , connection: [<__main__.Node object at 0x0000028CBB7D5E80>, <__main__.Node object at 0x0000028CBB7DB5F8>, <__main__.Node object at 0x0000028CBB7DB5C0>]\n",
      "id: 15 , x: 303.8072957257191 , Y: 242.77992934885296 , connection: [<__main__.Node object at 0x0000028CBB7D5630>, <__main__.Node object at 0x0000028CBB7DEB00>]\n",
      "id: 16 , x: 292.6333886896368 , Y: 123.87939813961691 , connection: [<__main__.Node object at 0x0000028CBB7D59B0>, <__main__.Node object at 0x0000028CBB7DB940>]\n",
      "id: 17 , x: 246.8782626730923 , Y: 137.7792162423957 , connection: [<__main__.Node object at 0x0000028CBB7DB208>]\n",
      "id: 18 , x: 390.38449060716596 , Y: 30.772643614228045 , connection: [<__main__.Node object at 0x0000028CBB7DE128>]\n",
      "id: 19 , x: 457.2616936604915 , Y: 59.631422070273445 , connection: []\n",
      "id: 20 , x: 410.42988046155716 , Y: 296.8957076437204 , connection: []\n",
      "id: 21 , x: 366.47395842263705 , Y: 416.3103549254041 , connection: []\n",
      "id: 22 , x: 42.97455655723215 , Y: 439.60872269959833 , connection: [<__main__.Node object at 0x0000028CBB7D2DD8>, <__main__.Node object at 0x0000028CBB7DE8D0>]\n",
      "id: 23 , x: 116.55994633307742 , Y: 431.0993738896646 , connection: [<__main__.Node object at 0x0000028CBB7DB208>]\n",
      "id: 24 , x: 80.5562789374093 , Y: 431.1496264243656 , connection: [<__main__.Node object at 0x0000028CBB7D5CC0>, <__main__.Node object at 0x0000028CBB7DE710>, <__main__.Node object at 0x0000028CBB7DB128>, <__main__.Node object at 0x0000028CBB7DE4A8>]\n",
      "id: 25 , x: 93.96294037825476 , Y: 255.0145009155666 , connection: [<__main__.Node object at 0x0000028CBB7D5940>]\n",
      "id: 26 , x: 104.57706098882097 , Y: 110.37018472301618 , connection: []\n",
      "id: 27 , x: 361.96532239431207 , Y: 99.01020209521593 , connection: [<__main__.Node object at 0x0000028CBB7DE630>, <__main__.Node object at 0x0000028CBB7DB748>, <__main__.Node object at 0x0000028CBB7DE860>]\n",
      "id: 28 , x: 42.639290465035394 , Y: 142.34790559419042 , connection: [<__main__.Node object at 0x0000028CBB7DB518>, <__main__.Node object at 0x0000028CBB7D5438>]\n",
      "id: 29 , x: 362.202444351047 , Y: 119.25899104320004 , connection: [<__main__.Node object at 0x0000028CBB7D5F28>, <__main__.Node object at 0x0000028CBB7D2DD8>]\n",
      "id: 30 , x: 51.389673224727204 , Y: 264.62885909915263 , connection: []\n",
      "id: 31 , x: 210.42591261616832 , Y: 322.86410160019705 , connection: []\n",
      "id: 32 , x: 462.22201580935507 , Y: 261.1627834336896 , connection: [<__main__.Node object at 0x0000028CBB7DE0F0>, <__main__.Node object at 0x0000028CBB7D50B8>, <__main__.Node object at 0x0000028CBB7D5EF0>, <__main__.Node object at 0x0000028CBB7D5C50>, <__main__.Node object at 0x0000028CBB7D2278>]\n",
      "id: 33 , x: 141.3382271680013 , Y: 248.77974040305813 , connection: [<__main__.Node object at 0x0000028CBB7D5B70>, <__main__.Node object at 0x0000028CBB7DE358>]\n",
      "id: 34 , x: 126.29127258685475 , Y: 295.1190999417987 , connection: [<__main__.Node object at 0x0000028CBB7DEBE0>]\n",
      "id: 35 , x: 142.69065022699368 , Y: 466.69086016697275 , connection: [<__main__.Node object at 0x0000028CBB7DE710>, <__main__.Node object at 0x0000028CBB7D2DD8>]\n",
      "id: 36 , x: 245.71888333294456 , Y: 410.2912829589176 , connection: [<__main__.Node object at 0x0000028CBB7D5470>]\n",
      "id: 37 , x: 147.66331161671908 , Y: 77.44469015774669 , connection: [<__main__.Node object at 0x0000028CBB7DB5F8>, <__main__.Node object at 0x0000028CBB7D54E0>, <__main__.Node object at 0x0000028CBB7D5CC0>]\n",
      "id: 38 , x: 133.19861580574727 , Y: 185.28067314586693 , connection: []\n",
      "id: 39 , x: 98.67184923774569 , Y: 33.05402126455309 , connection: [<__main__.Node object at 0x0000028CBB7DE1D0>]\n",
      "id: 40 , x: 347.98788471295046 , Y: 281.06110398135354 , connection: [<__main__.Node object at 0x0000028CBB7DE860>, <__main__.Node object at 0x0000028CBB7DE3C8>, <__main__.Node object at 0x0000028CBB7DEBE0>]\n",
      "id: 41 , x: 349.1000588430866 , Y: 237.29882662023215 , connection: [<__main__.Node object at 0x0000028CBB7D22B0>]\n",
      "id: 42 , x: 212.6338644383562 , Y: 167.35806948433412 , connection: [<__main__.Node object at 0x0000028CBB7DE390>, <__main__.Node object at 0x0000028CBB7D2D68>, <__main__.Node object at 0x0000028CBB7DEA20>, <__main__.Node object at 0x0000028CBB7D2FD0>, <__main__.Node object at 0x0000028CBB7DEEB8>]\n",
      "id: 43 , x: 103.80865252329168 , Y: 104.82839882977923 , connection: []\n",
      "id: 44 , x: 395.0052338260516 , Y: 204.56636943831052 , connection: []\n",
      "id: 45 , x: 439.28435285286787 , Y: 409.9068190204334 , connection: [<__main__.Node object at 0x0000028CBB7D2F60>, <__main__.Node object at 0x0000028CBB7DE7B8>, <__main__.Node object at 0x0000028CBB7D5C50>]\n",
      "id: 46 , x: 94.70578631232924 , Y: 378.890552911659 , connection: [<__main__.Node object at 0x0000028CBB7D2F60>, <__main__.Node object at 0x0000028CBB7DE668>, <__main__.Node object at 0x0000028CBB7DB470>, <__main__.Node object at 0x0000028CBB7DE080>]\n",
      "id: 47 , x: 67.74290084957596 , Y: 376.32212927914304 , connection: [<__main__.Node object at 0x0000028CBB7DE438>, <__main__.Node object at 0x0000028CBB7D2F98>, <__main__.Node object at 0x0000028CBB7DEF98>, <__main__.Node object at 0x0000028CBB7D5E80>, <__main__.Node object at 0x0000028CBB7DE240>]\n",
      "id: 48 , x: 116.81688640720516 , Y: 486.4007587944673 , connection: [<__main__.Node object at 0x0000028CBB7D52E8>]\n",
      "id: 49 , x: 294.6913201511243 , Y: 183.67762543607574 , connection: [<__main__.Node object at 0x0000028CBB7D5A58>, <__main__.Node object at 0x0000028CBB7DB320>]\n",
      "id: 50 , x: 159.11320446050576 , Y: 262.51264310446885 , connection: [<__main__.Node object at 0x0000028CBA77B7F0>, <__main__.Node object at 0x0000028CBB7D5438>, <__main__.Node object at 0x0000028CBB7DE6D8>]\n",
      "id: 51 , x: 464.41250897699706 , Y: 404.9316303732882 , connection: [<__main__.Node object at 0x0000028CBB7D5DD8>, <__main__.Node object at 0x0000028CBB7D51D0>]\n",
      "id: 52 , x: 33.314375149772644 , Y: 477.3983517404426 , connection: [<__main__.Node object at 0x0000028CBB7D5470>]\n",
      "id: 53 , x: 489.2976986338795 , Y: 222.62344678765743 , connection: [<__main__.Node object at 0x0000028CBB7D52B0>, <__main__.Node object at 0x0000028CBB7DB8D0>, <__main__.Node object at 0x0000028CBB7DE208>]\n",
      "id: 54 , x: 264.00131066016786 , Y: 174.8850245181451 , connection: [<__main__.Node object at 0x0000028CBB7DE748>]\n",
      "id: 55 , x: 38.16330563821607 , Y: 93.99264519028799 , connection: [<__main__.Node object at 0x0000028CBB7DB438>, <__main__.Node object at 0x0000028CBB7DE7F0>, <__main__.Node object at 0x0000028CBB7D5470>, <__main__.Node object at 0x0000028CBB7D5EF0>]\n",
      "id: 56 , x: 450.5547429281421 , Y: 289.1714705481931 , connection: [<__main__.Node object at 0x0000028CBB7DB208>]\n",
      "id: 57 , x: 135.53524627474334 , Y: 499.881405732587 , connection: [<__main__.Node object at 0x0000028CBB7DEBA8>, <__main__.Node object at 0x0000028CBB7DE908>]\n"
     ]
    },
    {
     "name": "stdout",
     "output_type": "stream",
     "text": [
      "id: 58 , x: 339.58871473595394 , Y: 257.38542139326586 , connection: []\n",
      "id: 59 , x: 166.53577790822376 , Y: 172.90603439705598 , connection: [<__main__.Node object at 0x0000028CBB7DECC0>]\n",
      "id: 60 , x: 238.47803924302525 , Y: 154.87930844502546 , connection: []\n",
      "id: 61 , x: 221.12090928556793 , Y: 34.66936291341055 , connection: [<__main__.Node object at 0x0000028CBB7DE588>, <__main__.Node object at 0x0000028CBB7DE7F0>]\n",
      "id: 62 , x: 380.49309979960907 , Y: 177.83736775639807 , connection: [<__main__.Node object at 0x0000028CBB7D2F60>, <__main__.Node object at 0x0000028CBB7DB240>]\n",
      "id: 63 , x: 144.98864018839836 , Y: 23.012533017595317 , connection: [<__main__.Node object at 0x0000028CBB7D5C50>]\n",
      "id: 64 , x: 89.70022206177536 , Y: 105.41995039351588 , connection: [<__main__.Node object at 0x0000028CBB7D50F0>]\n",
      "id: 65 , x: 45.7285825956234 , Y: 9.508193936621389 , connection: [<__main__.Node object at 0x0000028CBB7DB278>, <__main__.Node object at 0x0000028CBB7D5400>, <__main__.Node object at 0x0000028CBB7DE390>]\n",
      "id: 66 , x: 69.0852699797247 , Y: 480.2248377723988 , connection: []\n",
      "id: 67 , x: 84.0753792749312 , Y: 451.3008319013772 , connection: [<__main__.Node object at 0x0000028CBB7DEA20>]\n",
      "id: 68 , x: 383.3466474335624 , Y: 199.1625381319785 , connection: []\n",
      "id: 69 , x: 305.0731064522313 , Y: 487.1234290275926 , connection: [<__main__.Node object at 0x0000028CBB7DB5F8>]\n",
      "id: 70 , x: 486.6519654098257 , Y: 316.93754548003244 , connection: [<__main__.Node object at 0x0000028CBB7D5A90>]\n",
      "id: 71 , x: 410.1877488120661 , Y: 25.812335054923143 , connection: [<__main__.Node object at 0x0000028CBB7D5B38>]\n",
      "id: 72 , x: 402.92654007756204 , Y: 133.35511984783832 , connection: [<__main__.Node object at 0x0000028CBB7D5F60>, <__main__.Node object at 0x0000028CBB7DE3C8>]\n",
      "id: 73 , x: 493.3654195644512 , Y: 442.30850260788407 , connection: [<__main__.Node object at 0x0000028CBB7D2DD8>, <__main__.Node object at 0x0000028CBB7DB7B8>]\n",
      "id: 74 , x: 304.2846105645975 , Y: 208.96103763991124 , connection: [<__main__.Node object at 0x0000028CBB7DB208>, <__main__.Node object at 0x0000028CBB7DEB38>, <__main__.Node object at 0x0000028CBB7D5198>]\n",
      "id: 75 , x: 83.12076853706147 , Y: 334.15398639513194 , connection: [<__main__.Node object at 0x0000028CBB7D2E10>, <__main__.Node object at 0x0000028CBB7DE5F8>, <__main__.Node object at 0x0000028CBB7D50B8>]\n",
      "id: 76 , x: 445.423617876347 , Y: 44.162884926656595 , connection: [<__main__.Node object at 0x0000028CBB7DEA90>]\n",
      "id: 77 , x: 367.5213950004173 , Y: 459.427867829454 , connection: [<__main__.Node object at 0x0000028CBB7DE4A8>, <__main__.Node object at 0x0000028CBB7D5DA0>]\n",
      "id: 78 , x: 427.4669354969474 , Y: 431.98868694439744 , connection: [<__main__.Node object at 0x0000028CBB7D5860>, <__main__.Node object at 0x0000028CBB7D56D8>, <__main__.Node object at 0x0000028CBB7D5208>]\n",
      "id: 79 , x: 469.3729681207694 , Y: 37.300588855412485 , connection: []\n",
      "id: 80 , x: 426.7933697794579 , Y: 384.57094809001813 , connection: [<__main__.Node object at 0x0000028CBB7DE278>]\n",
      "id: 81 , x: 206.66715230886 , Y: 471.69885142436885 , connection: []\n",
      "id: 82 , x: 161.4108367030604 , Y: 464.19412587871307 , connection: []\n",
      "id: 83 , x: 393.85837639545247 , Y: 68.97429394245901 , connection: [<__main__.Node object at 0x0000028CBB7D55F8>]\n",
      "id: 84 , x: 68.25365506845793 , Y: 316.0815333168739 , connection: [<__main__.Node object at 0x0000028CBB7DE470>, <__main__.Node object at 0x0000028CBB7DEFD0>, <__main__.Node object at 0x0000028CBB7DE710>]\n",
      "id: 85 , x: 494.0058174034509 , Y: 495.70801744082735 , connection: [<__main__.Node object at 0x0000028CBB7D5B70>, <__main__.Node object at 0x0000028CBB7DE4A8>]\n",
      "id: 86 , x: 263.3746843699096 , Y: 430.490232126694 , connection: []\n",
      "id: 87 , x: 316.60956644136166 , Y: 161.59892019700956 , connection: [<__main__.Node object at 0x0000028CBB7DE2E8>, <__main__.Node object at 0x0000028CBB7DE9B0>]\n",
      "id: 88 , x: 267.7442113595878 , Y: 353.36312533910314 , connection: []\n",
      "id: 89 , x: 458.3576732415081 , Y: 27.059755956665153 , connection: []\n",
      "id: 90 , x: 485.9453211643406 , Y: 38.01223094435097 , connection: []\n",
      "id: 91 , x: 158.55625943002028 , Y: 314.8559314685395 , connection: [<__main__.Node object at 0x0000028CBB7DB278>]\n",
      "id: 92 , x: 47.72060974709685 , Y: 247.5932571118965 , connection: [<__main__.Node object at 0x0000028CBB7D5438>, <__main__.Node object at 0x0000028CBB7DB080>]\n",
      "id: 93 , x: 346.3295248904643 , Y: 325.65004241379376 , connection: []\n",
      "id: 94 , x: 37.266927210706626 , Y: 400.69568284618003 , connection: [<__main__.Node object at 0x0000028CBB7DE5C0>, <__main__.Node object at 0x0000028CBB7DE6A0>]\n",
      "id: 95 , x: 4.749346431618784 , Y: 89.20284772397574 , connection: [<__main__.Node object at 0x0000028CBB7DB518>, <__main__.Node object at 0x0000028CBB7DB400>]\n",
      "id: 96 , x: 459.2050114182514 , Y: 470.16489192756876 , connection: [<__main__.Node object at 0x0000028CBB7DB6D8>]\n",
      "id: 97 , x: 369.8240712671695 , Y: 447.76828497282696 , connection: [<__main__.Node object at 0x0000028CBB7DE240>, <__main__.Node object at 0x0000028CBB7D57B8>, <__main__.Node object at 0x0000028CBB7DE710>]\n",
      "id: 98 , x: 437.5426326729802 , Y: 363.27365395666834 , connection: [<__main__.Node object at 0x0000028CBB7D5358>]\n",
      "id: 99 , x: 312.41637963594115 , Y: 117.50920229393901 , connection: [<__main__.Node object at 0x0000028CBB7D5C88>]\n",
      "id: 100 , x: 53.35473756391534 , Y: 177.15106615129227 , connection: [<__main__.Node object at 0x0000028CBB7DB2E8>, <__main__.Node object at 0x0000028CBB7DE978>]\n",
      "id: 101 , x: 397.37973682584897 , Y: 39.59221261744161 , connection: []\n",
      "id: 102 , x: 13.480067814955198 , Y: 293.8589296165273 , connection: []\n",
      "id: 103 , x: 300.33808365716146 , Y: 143.40316392679608 , connection: [<__main__.Node object at 0x0000028CBB7D5710>]\n",
      "id: 104 , x: 209.87507102683912 , Y: 167.42604345706712 , connection: []\n",
      "id: 105 , x: 28.560954549834427 , Y: 125.23714620801829 , connection: [<__main__.Node object at 0x0000028CBB7DEF60>, <__main__.Node object at 0x0000028CBB7D52E8>]\n",
      "id: 106 , x: 8.519212146125167 , Y: 64.32617100720006 , connection: []\n",
      "id: 107 , x: 313.75886840262706 , Y: 143.3481372021611 , connection: [<__main__.Node object at 0x0000028CBB7D5358>]\n",
      "id: 108 , x: 14.408986345063102 , Y: 218.37438939239956 , connection: [<__main__.Node object at 0x0000028CBB7DB0F0>, <__main__.Node object at 0x0000028CBB7DB4E0>, <__main__.Node object at 0x0000028CBB7DE128>, <__main__.Node object at 0x0000028CBB7DB940>]\n",
      "id: 109 , x: 273.72695622922913 , Y: 295.5563393835438 , connection: [<__main__.Node object at 0x0000028CBB7D56D8>, <__main__.Node object at 0x0000028CBB7DE6A0>, <__main__.Node object at 0x0000028CBB7DE320>]\n",
      "id: 110 , x: 13.467443563451976 , Y: 333.0012084028907 , connection: [<__main__.Node object at 0x0000028CBB7DE160>]\n",
      "id: 111 , x: 73.18705182553981 , Y: 357.25355392084043 , connection: []\n",
      "id: 112 , x: 223.9882196082351 , Y: 239.1873808578607 , connection: [<__main__.Node object at 0x0000028CBB7DE828>]\n",
      "id: 113 , x: 305.55265773377874 , Y: 384.70421819688806 , connection: [<__main__.Node object at 0x0000028CBB7DEDA0>, <__main__.Node object at 0x0000028CBB7DB908>]\n",
      "id: 114 , x: 318.5248137359261 , Y: 107.41004998557874 , connection: [<__main__.Node object at 0x0000028CBB7DE7B8>, <__main__.Node object at 0x0000028CBB7DE208>]\n",
      "id: 115 , x: 34.99491682002881 , Y: 457.81566827929197 , connection: []\n",
      "id: 116 , x: 73.56576820954469 , Y: 348.9053245974258 , connection: [<__main__.Node object at 0x0000028CBB7D5390>, <__main__.Node object at 0x0000028CBB7DE208>, <__main__.Node object at 0x0000028CBB7DB2B0>]\n",
      "id: 117 , x: 329.8362332227536 , Y: 18.57111695998731 , connection: []\n",
      "id: 118 , x: 237.59818298496432 , Y: 486.6894613540226 , connection: [<__main__.Node object at 0x0000028CBB7DB1D0>]\n",
      "id: 119 , x: 209.57910048489126 , Y: 212.96639169784865 , connection: [<__main__.Node object at 0x0000028CBB7D5860>]\n",
      "id: 120 , x: 31.761271636017995 , Y: 86.85598389279919 , connection: [<__main__.Node object at 0x0000028CBB7D2FD0>]\n",
      "id: 121 , x: 464.97612986497126 , Y: 120.31674028635925 , connection: [<__main__.Node object at 0x0000028CBB7DE2B0>]\n",
      "id: 122 , x: 36.80614535078919 , Y: 135.5507398251541 , connection: [<__main__.Node object at 0x0000028CBB7D52B0>, <__main__.Node object at 0x0000028CBB7D5828>]\n",
      "id: 123 , x: 170.4545168225162 , Y: 248.6765615472019 , connection: [<__main__.Node object at 0x0000028CBB7DEA20>]\n",
      "id: 124 , x: 80.15064539305305 , Y: 126.27412050279862 , connection: [<__main__.Node object at 0x0000028CBA77B7F0>, <__main__.Node object at 0x0000028CBB7D51D0>, <__main__.Node object at 0x0000028CBB7D5828>]\n",
      "id: 125 , x: 31.291164313667295 , Y: 345.5324293866236 , connection: [<__main__.Node object at 0x0000028CBB7D5780>]\n",
      "id: 126 , x: 430.37058544865806 , Y: 438.58276058445165 , connection: [<__main__.Node object at 0x0000028CBB7DE940>, <__main__.Node object at 0x0000028CBB7DE3C8>, <__main__.Node object at 0x0000028CBB7DB7B8>, <__main__.Node object at 0x0000028CBB7D5FD0>, <__main__.Node object at 0x0000028CBB7D5128>, <__main__.Node object at 0x0000028CBB7DE2E8>]\n",
      "id: 127 , x: 241.37187390815652 , Y: 206.08730391023704 , connection: [<__main__.Node object at 0x0000028CBB7DE748>, <__main__.Node object at 0x0000028CBB7D2F60>]\n",
      "id: 128 , x: 256.8744340343411 , Y: 128.11743898049156 , connection: [<__main__.Node object at 0x0000028CBA77B860>]\n",
      "id: 129 , x: 71.8454361329235 , Y: 411.7628459474421 , connection: []\n",
      "id: 130 , x: 65.25579360399009 , Y: 435.26015856798597 , connection: []\n",
      "id: 131 , x: 384.0268935035134 , Y: 420.75002896679143 , connection: []\n",
      "id: 132 , x: 246.0949764369571 , Y: 332.0740017685844 , connection: [<__main__.Node object at 0x0000028CBB7D2CF8>]\n",
      "id: 133 , x: 238.1953280533818 , Y: 222.641217647797 , connection: [<__main__.Node object at 0x0000028CBB7D5588>, <__main__.Node object at 0x0000028CBB7DB908>]\n",
      "id: 134 , x: 480.5108041443719 , Y: 468.0748738538093 , connection: []\n",
      "id: 135 , x: 232.83969932650228 , Y: 114.75817331446636 , connection: [<__main__.Node object at 0x0000028CBB7DB0B8>, <__main__.Node object at 0x0000028CBB7D2F98>]\n",
      "id: 136 , x: 470.00768692955893 , Y: 464.27252373587316 , connection: [<__main__.Node object at 0x0000028CBB7D5A20>]\n",
      "id: 137 , x: 489.9349504200765 , Y: 454.84946953248306 , connection: []\n",
      "id: 138 , x: 422.4337490791694 , Y: 342.53970402935954 , connection: [<__main__.Node object at 0x0000028CBB7D59B0>, <__main__.Node object at 0x0000028CBB7DE588>]\n",
      "id: 139 , x: 65.47076927518619 , Y: 250.11169481154843 , connection: []\n",
      "id: 140 , x: 49.21468826423897 , Y: 69.81540902688016 , connection: [<__main__.Node object at 0x0000028CBB7DE278>]\n",
      "id: 141 , x: 229.98889828791897 , Y: 212.2808809492256 , connection: [<__main__.Node object at 0x0000028CBB7D5A90>]\n",
      "id: 142 , x: 165.80078377763846 , Y: 394.9330734106746 , connection: []\n",
      "id: 143 , x: 248.98455077645676 , Y: 390.3058806928284 , connection: [<__main__.Node object at 0x0000028CBB7D2D30>]\n",
      "id: 144 , x: 457.3331647179314 , Y: 417.6827039570455 , connection: [<__main__.Node object at 0x0000028CBB7DE5F8>]\n",
      "id: 145 , x: 181.7616118007894 , Y: 259.6441325482822 , connection: [<__main__.Node object at 0x0000028CBB7D5DA0>, <__main__.Node object at 0x0000028CBB7DE860>, <__main__.Node object at 0x0000028CBB7DE0B8>, <__main__.Node object at 0x0000028CBB7DEE80>]\n",
      "id: 146 , x: 172.89390044469604 , Y: 335.65830192629903 , connection: [<__main__.Node object at 0x0000028CBB7D2EB8>]\n",
      "id: 147 , x: 493.86864130600543 , Y: 5.835770842073373 , connection: []\n",
      "id: 148 , x: 35.48534869468823 , Y: 419.5038524663303 , connection: [<__main__.Node object at 0x0000028CBB7DB5C0>]\n",
      "id: 149 , x: 409.92391072780015 , Y: 16.103843804279762 , connection: [<__main__.Node object at 0x0000028CBB7D2F98>]\n",
      "id: 150 , x: 493.3481768689895 , Y: 428.3084305041792 , connection: [<__main__.Node object at 0x0000028CBB7DE438>, <__main__.Node object at 0x0000028CBB7D2E48>]\n",
      "id: 151 , x: 117.63445884126949 , Y: 359.29119583669393 , connection: []\n",
      "id: 152 , x: 101.92454704340858 , Y: 46.414476824228615 , connection: [<__main__.Node object at 0x0000028CBB7D5358>, <__main__.Node object at 0x0000028CBB7D51D0>]\n",
      "id: 153 , x: 220.56781213227623 , Y: 140.0422677700888 , connection: [<__main__.Node object at 0x0000028CBB7D5BE0>, <__main__.Node object at 0x0000028CBB7DB438>]\n",
      "id: 154 , x: 498.7730562548932 , Y: 82.10150786322868 , connection: [<__main__.Node object at 0x0000028CBB7DB160>, <__main__.Node object at 0x0000028CBB7D55C0>]\n",
      "id: 155 , x: 330.3850720991593 , Y: 248.53957678372092 , connection: []\n",
      "id: 156 , x: 456.5367605542574 , Y: 481.3669458175588 , connection: [<__main__.Node object at 0x0000028CBB7DE630>, <__main__.Node object at 0x0000028CBB7DE240>, <__main__.Node object at 0x0000028CBB7D52B0>, <__main__.Node object at 0x0000028CBB7D52B0>, <__main__.Node object at 0x0000028CBB7DE8D0>]\n",
      "id: 157 , x: 307.7193333265791 , Y: 189.07292852010553 , connection: []\n",
      "id: 158 , x: 469.69496023381305 , Y: 259.2418924494553 , connection: [<__main__.Node object at 0x0000028CBB7DB588>]\n",
      "id: 159 , x: 104.62462789299181 , Y: 162.88711048074677 , connection: [<__main__.Node object at 0x0000028CBB7DE908>]\n",
      "id: 160 , x: 103.73118268659049 , Y: 279.7013212637818 , connection: [<__main__.Node object at 0x0000028CBB7D5080>]\n",
      "id: 161 , x: 68.12551342645502 , Y: 327.6037644336374 , connection: [<__main__.Node object at 0x0000028CBB7DEEB8>, <__main__.Node object at 0x0000028CBB7DB5C0>, <__main__.Node object at 0x0000028CBB7DEE80>, <__main__.Node object at 0x0000028CBB7D2D68>]\n",
      "id: 162 , x: 22.331188069957708 , Y: 127.69412325209834 , connection: [<__main__.Node object at 0x0000028CBB7D51D0>, <__main__.Node object at 0x0000028CBB7DE208>]\n",
      "id: 163 , x: 64.0302808812555 , Y: 28.694092912972092 , connection: [<__main__.Node object at 0x0000028CBB7DE8D0>, <__main__.Node object at 0x0000028CBB7D52B0>]\n",
      "id: 164 , x: 460.6541296859586 , Y: 384.8981973956677 , connection: []\n",
      "id: 165 , x: 351.3080687795597 , Y: 459.2230711870122 , connection: [<__main__.Node object at 0x0000028CBB7DB898>, <__main__.Node object at 0x0000028CBB7DED30>, <__main__.Node object at 0x0000028CBB7DE438>]\n",
      "id: 166 , x: 66.92183186115136 , Y: 369.22191038168586 , connection: [<__main__.Node object at 0x0000028CBB7DEBE0>, <__main__.Node object at 0x0000028CBB7D5A20>, <__main__.Node object at 0x0000028CBB7DECC0>]\n",
      "id: 167 , x: 334.50993744371345 , Y: 356.7251156916953 , connection: [<__main__.Node object at 0x0000028CBB7DE860>]\n",
      "id: 168 , x: 66.12729707223164 , Y: 370.3966695644086 , connection: [<__main__.Node object at 0x0000028CBB7DB3C8>, <__main__.Node object at 0x0000028CBB7DB2E8>, <__main__.Node object at 0x0000028CBA77B7F0>]\n",
      "id: 169 , x: 314.7946184133558 , Y: 79.3687058450679 , connection: [<__main__.Node object at 0x0000028CBB7D5CC0>]\n",
      "id: 170 , x: 90.04798025713583 , Y: 111.03723911340651 , connection: [<__main__.Node object at 0x0000028CBB7DB080>]\n",
      "id: 171 , x: 402.8625139560383 , Y: 111.39295134512433 , connection: [<__main__.Node object at 0x0000028CBB7D5F28>, <__main__.Node object at 0x0000028CBB7D2F60>]\n",
      "id: 172 , x: 296.2291688857037 , Y: 401.3689628538502 , connection: [<__main__.Node object at 0x0000028CBB7DE710>]\n",
      "id: 173 , x: 103.4565192193852 , Y: 147.47672546959078 , connection: [<__main__.Node object at 0x0000028CBB7DE940>]\n",
      "id: 174 , x: 481.07577791887803 , Y: 232.42282988748468 , connection: [<__main__.Node object at 0x0000028CBB7DE6A0>]\n",
      "id: 175 , x: 437.7091993812354 , Y: 54.48294801677 , connection: [<__main__.Node object at 0x0000028CBB7DB588>]\n",
      "id: 176 , x: 56.51349299678815 , Y: 325.06804930457713 , connection: [<__main__.Node object at 0x0000028CBB7D5DA0>, <__main__.Node object at 0x0000028CBB7D59E8>]\n",
      "id: 177 , x: 246.96572218176948 , Y: 167.263484940883 , connection: [<__main__.Node object at 0x0000028CBB7DEA58>]\n",
      "id: 178 , x: 223.4236096732065 , Y: 289.7270125527207 , connection: [<__main__.Node object at 0x0000028CBB7DE4A8>, <__main__.Node object at 0x0000028CBB7DEB38>]\n"
     ]
    },
    {
     "name": "stdout",
     "output_type": "stream",
     "text": [
      "id: 179 , x: 273.0534004697359 , Y: 204.70324065498252 , connection: [<__main__.Node object at 0x0000028CBB7D5748>, <__main__.Node object at 0x0000028CBB7D56A0>]\n",
      "id: 180 , x: 485.50559422163946 , Y: 450.2585997357255 , connection: [<__main__.Node object at 0x0000028CBB7D2D68>, <__main__.Node object at 0x0000028CBB7DB470>]\n",
      "id: 181 , x: 22.616405414206064 , Y: 201.14809037738607 , connection: [<__main__.Node object at 0x0000028CBB7D5B38>, <__main__.Node object at 0x0000028CBB7DEE80>, <__main__.Node object at 0x0000028CBB7DEC50>, <__main__.Node object at 0x0000028CBB7DEDD8>]\n",
      "id: 182 , x: 57.2005162579583 , Y: 190.7821779705985 , connection: [<__main__.Node object at 0x0000028CBB7DE748>]\n",
      "id: 183 , x: 270.0970737531625 , Y: 162.40322857785605 , connection: []\n",
      "id: 184 , x: 320.86488301302285 , Y: 423.61639023580193 , connection: [<__main__.Node object at 0x0000028CBB7DE160>, <__main__.Node object at 0x0000028CBB7DED68>]\n",
      "id: 185 , x: 118.9186592025822 , Y: 40.470496044317294 , connection: [<__main__.Node object at 0x0000028CBB7DE588>]\n",
      "id: 186 , x: 243.06418546791426 , Y: 77.37990871935646 , connection: [<__main__.Node object at 0x0000028CBB7D5390>, <__main__.Node object at 0x0000028CBB7DB240>]\n",
      "id: 187 , x: 206.03851263214102 , Y: 298.31635704737266 , connection: [<__main__.Node object at 0x0000028CBB7D58D0>, <__main__.Node object at 0x0000028CBB7DE8D0>, <__main__.Node object at 0x0000028CBA77B860>]\n",
      "id: 188 , x: 155.45988601453615 , Y: 210.0390617828363 , connection: []\n",
      "id: 189 , x: 143.04034929419896 , Y: 117.4048113508484 , connection: [<__main__.Node object at 0x0000028CBB7DEE80>]\n",
      "id: 190 , x: 72.3558901825554 , Y: 266.66369518478984 , connection: [<__main__.Node object at 0x0000028CBB7DE550>, <__main__.Node object at 0x0000028CBB7DE358>, <__main__.Node object at 0x0000028CBB7D2E48>, <__main__.Node object at 0x0000028CBB7DB550>]\n",
      "id: 191 , x: 312.37575638488727 , Y: 396.62631382193604 , connection: [<__main__.Node object at 0x0000028CBB7DE940>, <__main__.Node object at 0x0000028CBB7D5CC0>, <__main__.Node object at 0x0000028CBB7DB0F0>]\n",
      "id: 192 , x: 59.08164883483874 , Y: 217.47715067645618 , connection: [<__main__.Node object at 0x0000028CBB7D5588>]\n",
      "id: 193 , x: 289.0534819170483 , Y: 223.7348231296658 , connection: [<__main__.Node object at 0x0000028CBB7D5BE0>, <__main__.Node object at 0x0000028CBB7D52E8>]\n",
      "id: 194 , x: 217.52869458235102 , Y: 170.000353155572 , connection: [<__main__.Node object at 0x0000028CBB7DEA90>, <__main__.Node object at 0x0000028CBB7D5C18>]\n",
      "id: 195 , x: 260.1306976900105 , Y: 131.2606009172803 , connection: [<__main__.Node object at 0x0000028CBB7D5EB8>, <__main__.Node object at 0x0000028CBB7DE940>]\n",
      "id: 196 , x: 465.32704069176447 , Y: 155.76950954034635 , connection: [<__main__.Node object at 0x0000028CBB7D5320>, <__main__.Node object at 0x0000028CBB7DEFD0>, <__main__.Node object at 0x0000028CBB7DB128>]\n",
      "id: 197 , x: 3.301612485238359 , Y: 101.89923759785835 , connection: [<__main__.Node object at 0x0000028CBB7D2D68>]\n",
      "id: 198 , x: 260.0929423852807 , Y: 499.69481879335206 , connection: [<__main__.Node object at 0x0000028CBB7DED68>, <__main__.Node object at 0x0000028CBB7D5518>]\n",
      "id: 199 , x: 129.84805772393722 , Y: 107.33653426773171 , connection: [<__main__.Node object at 0x0000028CBB7DE898>, <__main__.Node object at 0x0000028CBB7D5DA0>]\n"
     ]
    }
   ],
   "source": [
    "for i in nodes:\n",
    "    i.print()"
   ]
  },
  {
   "cell_type": "code",
   "execution_count": null,
   "metadata": {},
   "outputs": [],
   "source": []
  },
  {
   "cell_type": "code",
   "execution_count": null,
   "metadata": {},
   "outputs": [],
   "source": []
  },
  {
   "cell_type": "code",
   "execution_count": 7,
   "metadata": {},
   "outputs": [],
   "source": [
    "class Graph:\n",
    "    def __init__(self, num, numOfConnections):\n",
    "#         print('node')\n",
    "        self.num = num\n",
    "        self.width = 500\n",
    "        self.height = 500\n",
    "        self.nodes = []\n",
    "        for i in range(self.num):\n",
    "            self.nodes.append(Node(i, self.width, self.height))\n",
    "        self.init(numOfConnections)\n",
    "    def init(self, num=100):\n",
    "        for i in range(num):\n",
    "            index0 = math.floor( random.random() * self.num )\n",
    "            index1 = math.floor( random.random() * self.num )\n",
    "            if (index0 != index1):\n",
    "                self.nodes[index0].addNode(self.nodes[index1])\n",
    "    def toJson(self):\n",
    "        outList = []\n",
    "        for i in self.nodes:\n",
    "            outList.append(i.toJson())\n",
    "        return outList\n",
    "    def print(self):\n",
    "        print('numOfnodes:', len(self.nodes))"
   ]
  },
  {
   "cell_type": "code",
   "execution_count": 8,
   "metadata": {
    "scrolled": false
   },
   "outputs": [
    {
     "name": "stdout",
     "output_type": "stream",
     "text": [
      "numOfnodes: 70\n",
      "id: 50 , x: 118.2363948722337 , Y: 305.6885866586114 , connection: []\n"
     ]
    }
   ],
   "source": [
    "g = Graph(70, 100)\n",
    "g.print()\n",
    "g.nodes[50].print()\n",
    "jsonData = g.toJson()"
   ]
  },
  {
   "cell_type": "code",
   "execution_count": 9,
   "metadata": {},
   "outputs": [],
   "source": []
  },
  {
   "cell_type": "markdown",
   "metadata": {},
   "source": [
    "#### Visualization"
   ]
  },
  {
   "cell_type": "code",
   "execution_count": 10,
   "metadata": {},
   "outputs": [],
   "source": [
    "import tkinter\n",
    "root = tkinter.Tk()\n",
    "myCanvas = tkinter.Canvas(root, bg=\"blue\", height=g.height, width=g.width)\n",
    "myCanvas.pack()\n",
    "\n",
    "def drawPoint(x, y, r = 2): #center coordinates, radius\n",
    "    myCanvas.create_oval(x - r, y - r, x + r, y + r, outline='white', fill=\"red\", width=2, stipple=\"gray50\")\n",
    "def drawLine(x0, y0, x1, y1 ):\n",
    "    myCanvas.create_line(x0, y0, x1, y1, dash=(4, 2), fill=\"#fb0\")\n",
    "\n",
    "for i in g.nodes:\n",
    "    x = i.pos['x']\n",
    "    y = i.pos['y']\n",
    "    drawPoint(x,y, (len(i.connections)+1 ) * 2)\n",
    "    \n",
    "    if len(i.connections) > 0:\n",
    "        for other in i.connections:\n",
    "            xOther = other.pos['x']\n",
    "            yOther = other.pos['y']\n",
    "            drawLine(x,y, xOther,yOther )\n",
    "    \n",
    "    \n",
    "    \n",
    "root.mainloop()"
   ]
  },
  {
   "cell_type": "markdown",
   "metadata": {},
   "source": [
    "#### Save JSON"
   ]
  },
  {
   "cell_type": "code",
   "execution_count": 11,
   "metadata": {},
   "outputs": [],
   "source": [
    "import json\n",
    "with open('Workshop_07_PythonGraphNode-JSON.json', 'w') as outfile:  \n",
    "    json.dump(jsonData, outfile)"
   ]
  },
  {
   "cell_type": "code",
   "execution_count": null,
   "metadata": {},
   "outputs": [],
   "source": []
  }
 ],
 "metadata": {
  "kernelspec": {
   "display_name": "Python 3",
   "language": "python",
   "name": "python3"
  },
  "language_info": {
   "codemirror_mode": {
    "name": "ipython",
    "version": 3
   },
   "file_extension": ".py",
   "mimetype": "text/x-python",
   "name": "python",
   "nbconvert_exporter": "python",
   "pygments_lexer": "ipython3",
   "version": "3.5.2"
  }
 },
 "nbformat": 4,
 "nbformat_minor": 2
}
